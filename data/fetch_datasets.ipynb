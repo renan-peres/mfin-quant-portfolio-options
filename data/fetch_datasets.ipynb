{
 "cells": [
  {
   "cell_type": "markdown",
   "id": "75256a20",
   "metadata": {},
   "source": [
    "### Quotes"
   ]
  },
  {
   "cell_type": "code",
   "execution_count": 1,
   "id": "08bb2b10",
   "metadata": {
    "execution": {
     "iopub.execute_input": "2025-06-10T19:48:46.649053Z",
     "iopub.status.busy": "2025-06-10T19:48:46.645835Z",
     "iopub.status.idle": "2025-06-10T19:48:49.967669Z",
     "shell.execute_reply": "2025-06-10T19:48:49.966725Z"
    }
   },
   "outputs": [],
   "source": [
    "import pandas as pd\n",
    "\n",
    "# Read the CSVs\n",
    "df_benchmark = pd.read_csv('daily_benchmark_quotes.csv', index_col=0)\n",
    "df_stock = pd.read_csv('daily_stock_quotes.csv', index_col=0)\n",
    "df_bond = pd.read_csv('daily_bond_quotes.csv', index_col=0)\n",
    "\n",
    "# Merge the dataframes\n",
    "df = df_benchmark.copy()\n",
    "df = df.merge(df_stock, on='Date', how='left')  # Default suffixes=('_x','_y')\n",
    "df = df.merge(df_bond, on='Date', how='left')   # More suffixes if same cols exist\n",
    "\n",
    "# Function to clean column names\n",
    "def clean_column_names(dataframe):\n",
    "    # Find all columns with _x suffix\n",
    "    x_cols = [col for col in dataframe.columns if col.endswith('_x')]\n",
    "    \n",
    "    # For each _x column, drop the corresponding _y column and rename _x\n",
    "    for x_col in x_cols:\n",
    "        base_name = x_col[:-2]  # Remove _x suffix\n",
    "        y_col = f\"{base_name}_y\"\n",
    "        \n",
    "        # If y_col exists, drop it and rename x_col\n",
    "        if y_col in dataframe.columns:\n",
    "            dataframe = dataframe.drop(columns=[y_col])\n",
    "            dataframe = dataframe.rename(columns={x_col: base_name})\n",
    "    \n",
    "    return dataframe\n",
    "\n",
    "# Apply the function\n",
    "df = clean_column_names(df).sort_index(axis=0, ascending=True)\n",
    "\n",
    "# Drop the last 2 rows\n",
    "df = df.iloc[:-2]\n",
    "\n",
    "# Save to CSV\n",
    "daily_output = 'daily_quotes.csv'\n",
    "monthly_output = 'monthly_quotes.csv'\n",
    "df.sort_index(axis=0, ascending=True).sort_index(axis=1, ascending=True).to_csv(daily_output)\n",
    "\n",
    "df_monthly = (df.set_index(pd.to_datetime(df.pop('Date')))\n",
    "      if 'Date' in df.columns else df.copy())\n",
    "\n",
    "df_monthly.index = pd.to_datetime(df.index)              \n",
    "(df_monthly.resample('MS').last()\n",
    "   .reset_index()\n",
    "   .to_csv(monthly_output, index=False))"
   ]
  }
 ],
 "metadata": {
  "kernelspec": {
   "display_name": ".venv",
   "language": "python",
   "name": "python3"
  },
  "language_info": {
   "codemirror_mode": {
    "name": "ipython",
    "version": 3
   },
   "file_extension": ".py",
   "mimetype": "text/x-python",
   "name": "python",
   "nbconvert_exporter": "python",
   "pygments_lexer": "ipython3",
   "version": "3.13.3"
  }
 },
 "nbformat": 4,
 "nbformat_minor": 5
}
