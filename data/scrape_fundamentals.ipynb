{
 "cells": [
  {
   "cell_type": "markdown",
   "id": "8c508d9c",
   "metadata": {},
   "source": [
    "## Extract Fundamental Data from Yahoo Finance"
   ]
  },
  {
   "cell_type": "markdown",
   "id": "c32963f4",
   "metadata": {},
   "source": [
    "### Import Libraries"
   ]
  },
  {
   "cell_type": "code",
   "execution_count": 1,
   "id": "637fa693",
   "metadata": {
    "execution": {
     "iopub.execute_input": "2025-06-11T16:16:39.410803Z",
     "iopub.status.busy": "2025-06-11T16:16:39.410104Z",
     "iopub.status.idle": "2025-06-11T16:16:39.989933Z",
     "shell.execute_reply": "2025-06-11T16:16:39.989321Z"
    }
   },
   "outputs": [],
   "source": [
    "from py.fetch_fundamentals import fetch_fundamental_data\n",
    "\n",
    "import nest_asyncio\n",
    "nest_asyncio.apply()\n",
    "\n",
    "from datetime import datetime, timedelta\n",
    "import pandas as pd\n",
    "from pandas.tseries.offsets import BDay\n",
    "import warnings\n",
    "warnings.filterwarnings(\"ignore\")\n",
    "\n",
    "# Time Range\n",
    "end_date = datetime.today()"
   ]
  },
  {
   "cell_type": "markdown",
   "id": "a32027f8",
   "metadata": {},
   "source": [
    "### Stocks"
   ]
  },
  {
   "cell_type": "code",
   "execution_count": 2,
   "id": "b81532ff",
   "metadata": {
    "execution": {
     "iopub.execute_input": "2025-06-11T16:16:39.993079Z",
     "iopub.status.busy": "2025-06-11T16:16:39.992713Z",
     "iopub.status.idle": "2025-06-11T16:16:40.027086Z",
     "shell.execute_reply": "2025-06-11T16:16:40.026294Z"
    }
   },
   "outputs": [
    {
     "name": "stdout",
     "output_type": "stream",
     "text": [
      "All tickers already have data for 2025-06-11. Skipping download.\n",
      "Using existing data from fundamentals_stock.csv\n"
     ]
    }
   ],
   "source": [
    "tickers_file = 'tickers_sp_500.txt'\n",
    "with open(tickers_file, 'r') as f:\n",
    "    tickers = [line.strip() for line in f if line.strip()]\n",
    "\n",
    "# Replace '.' with '-' for Yahoo Finance compatibility\n",
    "tickers = [t.replace('.', '-') for t in tickers]\n",
    "tickers = list(dict.fromkeys(tickers))  # Remove duplicates\n",
    "\n",
    "data_output = 'fundamentals_stock.csv'\n",
    "\n",
    "# Get fundamental data\n",
    "fundamentals_df = fetch_fundamental_data(\n",
    "    tickers, \n",
    "    date=end_date, \n",
    "    data_file=data_output\n",
    ")"
   ]
  },
  {
   "cell_type": "markdown",
   "id": "58fc1ac6",
   "metadata": {},
   "source": [
    "### Benchmark"
   ]
  },
  {
   "cell_type": "code",
   "execution_count": 3,
   "id": "b569516d",
   "metadata": {
    "execution": {
     "iopub.execute_input": "2025-06-11T16:16:40.030050Z",
     "iopub.status.busy": "2025-06-11T16:16:40.029741Z",
     "iopub.status.idle": "2025-06-11T16:16:53.796176Z",
     "shell.execute_reply": "2025-06-11T16:16:53.795071Z"
    }
   },
   "outputs": [
    {
     "name": "stdout",
     "output_type": "stream",
     "text": [
      "Found 74 tickers with empty sector data that will be updated:\n",
      "- AGZ (empty sector data)\n",
      "- ATMP (empty sector data)\n",
      "- BAB (empty sector data)\n",
      "- BCD (empty sector data)\n",
      "- BIV (empty sector data)\n",
      "- BSJP (empty sector data)\n",
      "- CMBS (empty sector data)\n",
      "- CORP (empty sector data)\n",
      "- FCAL (empty sector data)\n",
      "- FLMI (empty sector data)\n",
      "- FLOT (empty sector data)\n",
      "- FLRN (empty sector data)\n",
      "- FLTR (empty sector data)\n",
      "- FMB (empty sector data)\n",
      "- FMHI (empty sector data)\n",
      "- FPEI (empty sector data)\n",
      "- FSMB (empty sector data)\n",
      "- FTGC (empty sector data)\n",
      "- FTSD (empty sector data)\n",
      "- GLD (empty sector data)\n",
      "- GOVI (empty sector data)\n",
      "- HMOP (empty sector data)\n",
      "- HTAB (empty sector data)\n",
      "- HYHG (empty sector data)\n",
      "- HYUP (empty sector data)\n",
      "- IAU (empty sector data)\n",
      "- IBD (empty sector data)\n",
      "- IEF (empty sector data)\n",
      "- IEI (empty sector data)\n",
      "- IGBH (empty sector data)\n",
      "- IGEB (empty sector data)\n",
      "- IGHG (empty sector data)\n",
      "- IGIB (empty sector data)\n",
      "- IGSB (empty sector data)\n",
      "- JMBS (empty sector data)\n",
      "- JMST (empty sector data)\n",
      "- KORP (empty sector data)\n",
      "- LGOV (empty sector data)\n",
      "- LKOR (empty sector data)\n",
      "- LMBS (empty sector data)\n",
      "- LQDH (empty sector data)\n",
      "- MBSD (empty sector data)\n",
      "- MEAR (empty sector data)\n",
      "- PULS (empty sector data)\n",
      "- RINF (empty sector data)\n",
      "- SCHO (empty sector data)\n",
      "- SCHP (empty sector data)\n",
      "- SCHR (empty sector data)\n",
      "- SDCI (empty sector data)\n",
      "- SHYL (empty sector data)\n",
      "- SKOR (empty sector data)\n",
      "- SLQD (empty sector data)\n",
      "- SMMU (empty sector data)\n",
      "- SPIB (empty sector data)\n",
      "- SPLB (empty sector data)\n",
      "- SPSB (empty sector data)\n",
      "- SPTI (empty sector data)\n",
      "- SPTS (empty sector data)\n",
      "- STIP (empty sector data)\n",
      "- TAXF (empty sector data)\n",
      "- TDTF (empty sector data)\n",
      "- TLH (empty sector data)\n",
      "- USCI (empty sector data)\n",
      "- USTB (empty sector data)\n",
      "- VCIT (empty sector data)\n",
      "- VCLT (empty sector data)\n",
      "- VCSH (empty sector data)\n",
      "- VGIT (empty sector data)\n",
      "- VGLT (empty sector data)\n",
      "- VGSH (empty sector data)\n",
      "- VMBS (empty sector data)\n",
      "- VRIG (empty sector data)\n",
      "- VTIP (empty sector data)\n",
      "- WINC (empty sector data)\n",
      "Fetching data for 74 ticker(s)\n",
      "Processing batch 1/1 (74 tickers)\n"
     ]
    },
    {
     "name": "stderr",
     "output_type": "stream",
     "text": [
      "100%|██████████████████████████████████████████████████████████████████████████████████████████████████████████████████████████████████████████████████████████████████████████████████████████████████████████████████████████████████████████████████████████████████████████████████████| 74/74 [00:13<00:00,  5.64it/s]\n"
     ]
    },
    {
     "name": "stdout",
     "output_type": "stream",
     "text": [
      "Updated data for 74 ticker(s)\n"
     ]
    }
   ],
   "source": [
    "tickers_file = 'tickers_benchmark.txt'\n",
    "with open(tickers_file, 'r') as f:\n",
    "    tickers = [line.strip() for line in f if line.strip()]\n",
    "\n",
    "# Replace '.' with '-' for Yahoo Finance compatibility\n",
    "tickers = [t.replace('.', '-') for t in tickers]\n",
    "tickers = list(dict.fromkeys(tickers))  # Remove duplicates\n",
    "\n",
    "data_output = 'fundamentals_benchmark.csv'\n",
    "\n",
    "# Get fundamental data with Sectors\n",
    "fundamentals_df = fetch_fundamental_data(\n",
    "    tickers, \n",
    "    date=end_date, \n",
    "    data_file=data_output,\n",
    "    fetch_sectors=True\n",
    ")"
   ]
  },
  {
   "cell_type": "markdown",
   "id": "2c2c2018",
   "metadata": {},
   "source": [
    "### Sectors"
   ]
  },
  {
   "cell_type": "code",
   "execution_count": 4,
   "id": "0714d878",
   "metadata": {
    "execution": {
     "iopub.execute_input": "2025-06-11T16:16:53.798934Z",
     "iopub.status.busy": "2025-06-11T16:16:53.798699Z",
     "iopub.status.idle": "2025-06-11T16:16:53.803423Z",
     "shell.execute_reply": "2025-06-11T16:16:53.802521Z"
    }
   },
   "outputs": [],
   "source": [
    "sectors = [\n",
    "    'XLE',\n",
    "    'CLF',\n",
    "    'XLF',\n",
    "    'GDX'\n",
    "]"
   ]
  }
 ],
 "metadata": {
  "kernelspec": {
   "display_name": ".venv",
   "language": "python",
   "name": "python3"
  },
  "language_info": {
   "codemirror_mode": {
    "name": "ipython",
    "version": 3
   },
   "file_extension": ".py",
   "mimetype": "text/x-python",
   "name": "python",
   "nbconvert_exporter": "python",
   "pygments_lexer": "ipython3",
   "version": "3.13.3"
  }
 },
 "nbformat": 4,
 "nbformat_minor": 5
}
