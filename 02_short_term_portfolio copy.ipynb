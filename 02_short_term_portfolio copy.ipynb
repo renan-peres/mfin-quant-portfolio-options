{
 "cells": [
  {
   "cell_type": "markdown",
   "metadata": {},
   "source": [
    "<a href=\"https://colab.research.google.com/github/renan-peres/mfin-portfolio-management/blob/main/02_short_term_portfolio.ipynb\" target=\"_parent\"><img src=\"https://colab.research.google.com/assets/colab-badge.svg\" alt=\"Open In Colab\"/></a>"
   ]
  },
  {
   "cell_type": "markdown",
   "metadata": {},
   "source": [
    "# Short-Term Equity Portfolio Strategy\n",
    "\n",
    "### **Overview**\n",
    "This notebook implements a systematic approach to building a short-term equity portfolio representing **15% of the complete portfolio**. The strategy combines:\n",
    "\n",
    "- **Sentiment Analysis**: News-based sentiment scoring using Financial Modeling Prep API\n",
    "- **Technical Analysis**: SMA/EMA cross signals with parameter optimization\n",
    "- **Risk Management**: Statistical validation to prevent overfitting\n",
    "- **Portfolio Construction**: Weighted allocation based on risk-adjusted returns\n",
    "\n",
    "### **Key Features**\n",
    "- ✅ News sentiment analysis from 30 days of market data\n",
    "- ✅ Technical indicator optimization with walk-forward validation\n",
    "- ✅ Overfitting detection using statistical tests\n",
    "- ✅ Robust parameter selection across multiple market conditions\n",
    "- ✅ Export to Excel for portfolio management integration"
   ]
  },
  {
   "cell_type": "markdown",
   "metadata": {},
   "source": [
    "## **1. Environment Setup**"
   ]
  },
  {
   "cell_type": "markdown",
   "metadata": {},
   "source": [
    "### Import Required Libraries"
   ]
  },
  {
   "cell_type": "code",
   "execution_count": 1,
   "metadata": {},
   "outputs": [
    {
     "name": "stdout",
     "output_type": "stream",
     "text": [
      "✅ All libraries imported successfully\n"
     ]
    }
   ],
   "source": [
    "# System libraries\n",
    "import glob\n",
    "import os\n",
    "import sys\n",
    "import logging\n",
    "import warnings\n",
    "from io import StringIO\n",
    "from typing import Dict, List\n",
    "from dotenv import load_dotenv\n",
    "\n",
    "# Data manipulation\n",
    "import polars as pl\n",
    "import pandas as pd\n",
    "import numpy as np\n",
    "from datetime import datetime, timedelta\n",
    "from pandas.tseries.offsets import BDay\n",
    "\n",
    "# Visualization\n",
    "import matplotlib.pyplot as plt\n",
    "from IPython.display import Image, display\n",
    "\n",
    "# Backtesting\n",
    "import bt\n",
    "\n",
    "# Configuration\n",
    "warnings.filterwarnings('ignore')\n",
    "os.environ['YFINANCE_PROGRESS'] = 'False'\n",
    "logging.getLogger('bt').setLevel(logging.CRITICAL)\n",
    "logging.getLogger('yfinance').setLevel(logging.CRITICAL)\n",
    "\n",
    "# Load environment variables\n",
    "load_dotenv()\n",
    "\n",
    "print(\"✅ All libraries imported successfully\")"
   ]
  },
  {
   "cell_type": "markdown",
   "metadata": {},
   "source": [
    "## **2. Strategy Parameters**"
   ]
  },
  {
   "cell_type": "markdown",
   "metadata": {},
   "source": [
    "### 2.1 Date Range Configuration\n",
    "Define the backtesting period for strategy development and validation."
   ]
  },
  {
   "cell_type": "code",
   "execution_count": 2,
   "metadata": {},
   "outputs": [
    {
     "name": "stdout",
     "output_type": "stream",
     "text": [
      "📅 Analysis Period: 2015-06-14 to 2025-06-11\n",
      "📊 Time Span: 3650 days (10.00 years)\n"
     ]
    }
   ],
   "source": [
    "# Define the date range (10 years of historical data)\n",
    "end_date = (datetime.today() - BDay(1)).to_pydatetime()  # Latest business day\n",
    "start_date = end_date - timedelta(days=10*365)            # 10 years back\n",
    "\n",
    "# Convert to timestamps for API calls\n",
    "start_timestamp = int(start_date.timestamp())\n",
    "end_timestamp = int(end_date.timestamp())\n",
    "\n",
    "# Display configuration\n",
    "days_difference = (end_date - start_date).days\n",
    "print(f\"📅 Analysis Period: {start_date.strftime('%Y-%m-%d')} to {end_date.strftime('%Y-%m-%d')}\")\n",
    "print(f\"📊 Time Span: {days_difference} days ({days_difference/365:.2f} years)\")"
   ]
  },
  {
   "cell_type": "markdown",
   "metadata": {},
   "source": [
    "### 2.2 Risk-Free Rate (Benchmark)\n",
    "Using 13-week Treasury Bill rate as the risk-free benchmark for Sharpe ratio calculations."
   ]
  },
  {
   "cell_type": "code",
   "execution_count": 3,
   "metadata": {},
   "outputs": [
    {
     "name": "stdout",
     "output_type": "stream",
     "text": [
      "Found 1 of 1 tickers in data/daily_treasury_rates.csv\n",
      "Missing tickers: []\n",
      "💰 Risk-Free Rate: 0.0424 (4.24%) - 13 Week Treasury Bill\n"
     ]
    }
   ],
   "source": [
    "from py.utils import load_and_filter_data\n",
    "\n",
    "daily_risk_free_df = load_and_filter_data('data/daily_treasury_rates.csv', ['^IRX'], start_date, end_date)\n",
    "risk_free_rate = daily_risk_free_df.iloc[-1, 0] / 100\n",
    "\n",
    "print(f\"💰 Risk-Free Rate: {risk_free_rate:.4f} ({risk_free_rate*100:.2f}%) - 13 Week Treasury Bill\")"
   ]
  },
  {
   "cell_type": "markdown",
   "metadata": {},
   "source": [
    "### 2.3 Portfolio File Management\n",
    "Automatically selects the most recent portfolio file for integration."
   ]
  },
  {
   "cell_type": "code",
   "execution_count": 4,
   "metadata": {},
   "outputs": [
    {
     "name": "stdout",
     "output_type": "stream",
     "text": [
      "📁 Using Portfolio File: portfolios/portfolio-2025-06-10.xlsx\n"
     ]
    }
   ],
   "source": [
    "portfolio_files = glob.glob('portfolios/portfolio-*.xlsx')\n",
    "if portfolio_files:\n",
    "    output_file = max(portfolio_files, key=os.path.getmtime)\n",
    "    print(f\"📁 Using Portfolio File: {output_file}\")\n",
    "else:\n",
    "    output_file = f'portfolios/portfolio-{datetime.date(end_date)}.xlsx'\n",
    "    print(f\"📁 Creating New Portfolio File: {output_file}\")"
   ]
  },
  {
   "cell_type": "markdown",
   "metadata": {},
   "source": [
    "## **3. Market Sentiment Analysis**"
   ]
  },
  {
   "cell_type": "markdown",
   "metadata": {},
   "source": [
    "### 3.1 News Data Collection\n",
    "Fetches recent market news using Financial Modeling Prep API for sentiment analysis.\n",
    "\n",
    "**API Details:**\n",
    "- Source: [FMP Stock News API](https://site.financialmodelingprep.com/developer/docs/stable/stock-news)\n",
    "- Period: Last 30 days\n",
    "- Volume: Up to 15,000 articles (15 pages × 1,000 records)- API Documentation: https://site.financialmodelingprep.com/developer/docs/stable/stock-news"
   ]
  },
  {
   "cell_type": "code",
   "execution_count": 5,
   "metadata": {},
   "outputs": [
    {
     "name": "stdout",
     "output_type": "stream",
     "text": [
      "Fetching page 1/15...\n",
      "Page 1: 1000 articles fetched\n",
      "Fetching page 2/15...\n",
      "Page 2: 1000 articles fetched\n",
      "Fetching page 3/15...\n",
      "Page 3: 999 articles fetched\n",
      "Fetching page 4/15...\n",
      "Page 4: 1000 articles fetched\n",
      "Fetching page 5/15...\n",
      "Page 5: 1000 articles fetched\n",
      "Fetching page 6/15...\n",
      "Page 6: 1000 articles fetched\n",
      "Fetching page 7/15...\n",
      "Page 7: 1000 articles fetched\n",
      "Fetching page 8/15...\n",
      "Page 8: 1000 articles fetched\n",
      "Fetching page 9/15...\n",
      "Page 9: 1000 articles fetched\n",
      "Fetching page 10/15...\n",
      "Page 10: 1000 articles fetched\n",
      "Fetching page 11/15...\n",
      "Page 11: 1000 articles fetched\n",
      "Fetching page 12/15...\n",
      "Page 12: 1000 articles fetched\n",
      "Fetching page 13/15...\n",
      "Page 13: 1000 articles fetched\n",
      "Fetching page 14/15...\n",
      "Page 14: 1000 articles fetched\n",
      "Fetching page 15/15...\n",
      "Page 15: 1000 articles fetched\n",
      "Total articles fetched: 14999\n"
     ]
    },
    {
     "data": {
      "text/html": [
       "<div><style>\n",
       ".dataframe > thead > tr,\n",
       ".dataframe > tbody > tr {\n",
       "  text-align: right;\n",
       "  white-space: pre-wrap;\n",
       "}\n",
       "</style>\n",
       "<small>shape: (5, 7)</small><table border=\"1\" class=\"dataframe\"><thead><tr><th>symbol</th><th>publishedDate</th><th>title</th><th>image</th><th>site</th><th>text</th><th>url</th></tr><tr><td>str</td><td>str</td><td>str</td><td>str</td><td>str</td><td>str</td><td>str</td></tr></thead><tbody><tr><td>&quot;GTLL&quot;</td><td>&quot;2025-06-12 15:16:37&quot;</td><td>&quot;Global X Variable Rate Preferr…</td><td>&quot;https://images.financialmodeli…</td><td>&quot;seekingalpha.com&quot;</td><td>&quot;The fund invests primarily in …</td><td>&quot;https://seekingalpha.com/artic…</td></tr><tr><td>&quot;LGCFF&quot;</td><td>&quot;2025-06-12 15:16:00&quot;</td><td>&quot;Lavras Gold Announces Results …</td><td>&quot;https://images.financialmodeli…</td><td>&quot;newsfilecorp.com&quot;</td><td>&quot;Toronto, Ontario--(Newsfile Co…</td><td>&quot;https://www.newsfilecorp.com/r…</td></tr><tr><td>&quot;CODI&quot;</td><td>&quot;2025-06-12 15:15:00&quot;</td><td>&quot;Class Action Lawsuit Alert: Le…</td><td>&quot;https://images.financialmodeli…</td><td>&quot;accessnewswire.com&quot;</td><td>&quot;NEW YORK, NY / ACCESS Newswire…</td><td>&quot;https://www.accessnewswire.com…</td></tr><tr><td>&quot;JPC&quot;</td><td>&quot;2025-06-12 15:11:34&quot;</td><td>&quot;JPC&#x27;s Leverage Strategy Could …</td><td>&quot;https://images.financialmodeli…</td><td>&quot;seekingalpha.com&quot;</td><td>&quot;JPC offers a high yield of aro…</td><td>&quot;https://seekingalpha.com/artic…</td></tr><tr><td>&quot;ASTS&quot;</td><td>&quot;2025-06-12 15:11:17&quot;</td><td>&quot;These 24 Stocks Are Ripe for a…</td><td>&quot;https://images.financialmodeli…</td><td>&quot;schaeffersresearch.com&quot;</td><td>&quot;With the way negative stock ma…</td><td>&quot;https://www.schaeffersresearch…</td></tr></tbody></table></div>"
      ],
      "text/plain": [
       "shape: (5, 7)\n",
       "┌────────┬──────────────┬──────────────┬──────────────┬──────────────┬──────────────┬──────────────┐\n",
       "│ symbol ┆ publishedDat ┆ title        ┆ image        ┆ site         ┆ text         ┆ url          │\n",
       "│ ---    ┆ e            ┆ ---          ┆ ---          ┆ ---          ┆ ---          ┆ ---          │\n",
       "│ str    ┆ ---          ┆ str          ┆ str          ┆ str          ┆ str          ┆ str          │\n",
       "│        ┆ str          ┆              ┆              ┆              ┆              ┆              │\n",
       "╞════════╪══════════════╪══════════════╪══════════════╪══════════════╪══════════════╪══════════════╡\n",
       "│ GTLL   ┆ 2025-06-12   ┆ Global X     ┆ https://imag ┆ seekingalpha ┆ The fund     ┆ https://seek │\n",
       "│        ┆ 15:16:37     ┆ Variable     ┆ es.financial ┆ .com         ┆ invests      ┆ ingalpha.com │\n",
       "│        ┆              ┆ Rate         ┆ modeli…      ┆              ┆ primarily in ┆ /artic…      │\n",
       "│        ┆              ┆ Preferr…     ┆              ┆              ┆ …            ┆              │\n",
       "│ LGCFF  ┆ 2025-06-12   ┆ Lavras Gold  ┆ https://imag ┆ newsfilecorp ┆ Toronto, Ont ┆ https://www. │\n",
       "│        ┆ 15:16:00     ┆ Announces    ┆ es.financial ┆ .com         ┆ ario--(Newsf ┆ newsfilecorp │\n",
       "│        ┆              ┆ Results …    ┆ modeli…      ┆              ┆ ile Co…      ┆ .com/r…      │\n",
       "│ CODI   ┆ 2025-06-12   ┆ Class Action ┆ https://imag ┆ accessnewswi ┆ NEW YORK, NY ┆ https://www. │\n",
       "│        ┆ 15:15:00     ┆ Lawsuit      ┆ es.financial ┆ re.com       ┆ / ACCESS     ┆ accessnewswi │\n",
       "│        ┆              ┆ Alert: Le…   ┆ modeli…      ┆              ┆ Newswire…    ┆ re.com…      │\n",
       "│ JPC    ┆ 2025-06-12   ┆ JPC's        ┆ https://imag ┆ seekingalpha ┆ JPC offers a ┆ https://seek │\n",
       "│        ┆ 15:11:34     ┆ Leverage     ┆ es.financial ┆ .com         ┆ high yield   ┆ ingalpha.com │\n",
       "│        ┆              ┆ Strategy     ┆ modeli…      ┆              ┆ of aro…      ┆ /artic…      │\n",
       "│        ┆              ┆ Could …      ┆              ┆              ┆              ┆              │\n",
       "│ ASTS   ┆ 2025-06-12   ┆ These 24     ┆ https://imag ┆ schaeffersre ┆ With the way ┆ https://www. │\n",
       "│        ┆ 15:11:17     ┆ Stocks Are   ┆ es.financial ┆ search.com   ┆ negative     ┆ schaeffersre │\n",
       "│        ┆              ┆ Ripe for a…  ┆ modeli…      ┆              ┆ stock ma…    ┆ search…      │\n",
       "└────────┴──────────────┴──────────────┴──────────────┴──────────────┴──────────────┴──────────────┘"
      ]
     },
     "metadata": {},
     "output_type": "display_data"
    }
   ],
   "source": [
    "from py.fetch_fmp_api import create_session, fetch_data\n",
    "\n",
    "# API configuration\n",
    "FMP_API_KEY = os.getenv('FMP_API_KEY')\n",
    "\n",
    "# Fetch news data\n",
    "session = create_session()\n",
    "data = fetch_data(\n",
    "    api_key=FMP_API_KEY,\n",
    "    session=session,\n",
    "    days_back=30,           # 30-day lookback period\n",
    "    max_pages=15,           # Maximum API pages to fetch\n",
    "    records_per_page=1000,  # Records per API call\n",
    "    request_timeout=10      # Connection timeout\n",
    ")\n",
    "\n",
    "news_df = pl.DataFrame(data)\n",
    "display(news_df.sort('publishedDate', descending=True).head())"
   ]
  },
  {
   "cell_type": "markdown",
   "metadata": {},
   "source": [
    "### 3.2 Sentiment Analysis & Stock Screening\n",
    "\n",
    "**Process Overview:**\n",
    "1. **Text Analysis**: Uses TextBlob to analyze news headline sentiment\n",
    "2. **Company Scoring**: Calculates company-specific news sentiment scores\n",
    "3. **Sector Analysis**: Computes sector-level sentiment averages\n",
    "4. **Fundamental Integration**: Merges with market cap, P/E ratios, and sector data\n",
    "\n",
    "**Screening Criteria:**\n",
    "- Minimum 3 articles in the last week (ensures sufficient data)\n",
    "- Company news score ≥ 0.45 (filters for positive sentiment)"
   ]
  },
  {
   "cell_type": "code",
   "execution_count": 6,
   "metadata": {},
   "outputs": [
    {
     "name": "stdout",
     "output_type": "stream",
     "text": [
      "📊 Loading fundamental stock data...\n",
      "📈 Processing 504 stocks across 4209 unique tickers\n",
      "🔍 Analyzing news sentiment by stock symbol...\n"
     ]
    },
    {
     "data": {
      "text/html": [
       "<div><style>\n",
       ".dataframe > thead > tr,\n",
       ".dataframe > tbody > tr {\n",
       "  text-align: right;\n",
       "  white-space: pre-wrap;\n",
       "}\n",
       "</style>\n",
       "<small>shape: (5, 13)</small><table border=\"1\" class=\"dataframe\"><thead><tr><th>symbol</th><th>articlesInLastWeek</th><th>companyNewsScore</th><th>bearishPercent</th><th>bullishPercent</th><th>averageSentimentScore</th><th>totalArticles</th><th>sectorAverageBullishPercent</th><th>sectorAverageNewsScore</th><th>sector</th><th>marketCap</th><th>peRatio</th><th>price</th></tr><tr><td>str</td><td>i64</td><td>f64</td><td>f64</td><td>f64</td><td>f64</td><td>i64</td><td>f64</td><td>f64</td><td>str</td><td>f64</td><td>f64</td><td>f64</td></tr></thead><tbody><tr><td>&quot;AZEK&quot;</td><td>11</td><td>0.7749</td><td>0.0</td><td>1.0</td><td>0.5499</td><td>11</td><td>0.0</td><td>0.0</td><td>&quot;Unknown&quot;</td><td>0.0</td><td>0.0</td><td>0.0</td></tr><tr><td>&quot;HBFG&quot;</td><td>5</td><td>0.7369</td><td>0.0</td><td>1.0</td><td>0.4737</td><td>5</td><td>0.0</td><td>0.0</td><td>&quot;Unknown&quot;</td><td>0.0</td><td>0.0</td><td>0.0</td></tr><tr><td>&quot;BRT&quot;</td><td>6</td><td>0.728</td><td>0.0</td><td>0.8333</td><td>0.456</td><td>6</td><td>0.0</td><td>0.0</td><td>&quot;Unknown&quot;</td><td>0.0</td><td>0.0</td><td>0.0</td></tr><tr><td>&quot;NICE&quot;</td><td>12</td><td>0.7233</td><td>0.0</td><td>1.0</td><td>0.4465</td><td>12</td><td>0.0</td><td>0.0</td><td>&quot;Unknown&quot;</td><td>0.0</td><td>0.0</td><td>0.0</td></tr><tr><td>&quot;ARTNA&quot;</td><td>6</td><td>0.7152</td><td>0.0</td><td>0.8333</td><td>0.4305</td><td>6</td><td>0.0</td><td>0.0</td><td>&quot;Unknown&quot;</td><td>0.0</td><td>0.0</td><td>0.0</td></tr></tbody></table></div>"
      ],
      "text/plain": [
       "shape: (5, 13)\n",
       "┌────────┬───────────────┬──────────────┬──────────────┬───┬─────────┬───────────┬─────────┬───────┐\n",
       "│ symbol ┆ articlesInLas ┆ companyNewsS ┆ bearishPerce ┆ … ┆ sector  ┆ marketCap ┆ peRatio ┆ price │\n",
       "│ ---    ┆ tWeek         ┆ core         ┆ nt           ┆   ┆ ---     ┆ ---       ┆ ---     ┆ ---   │\n",
       "│ str    ┆ ---           ┆ ---          ┆ ---          ┆   ┆ str     ┆ f64       ┆ f64     ┆ f64   │\n",
       "│        ┆ i64           ┆ f64          ┆ f64          ┆   ┆         ┆           ┆         ┆       │\n",
       "╞════════╪═══════════════╪══════════════╪══════════════╪═══╪═════════╪═══════════╪═════════╪═══════╡\n",
       "│ AZEK   ┆ 11            ┆ 0.7749       ┆ 0.0          ┆ … ┆ Unknown ┆ 0.0       ┆ 0.0     ┆ 0.0   │\n",
       "│ HBFG   ┆ 5             ┆ 0.7369       ┆ 0.0          ┆ … ┆ Unknown ┆ 0.0       ┆ 0.0     ┆ 0.0   │\n",
       "│ BRT    ┆ 6             ┆ 0.728        ┆ 0.0          ┆ … ┆ Unknown ┆ 0.0       ┆ 0.0     ┆ 0.0   │\n",
       "│ NICE   ┆ 12            ┆ 0.7233       ┆ 0.0          ┆ … ┆ Unknown ┆ 0.0       ┆ 0.0     ┆ 0.0   │\n",
       "│ ARTNA  ┆ 6             ┆ 0.7152       ┆ 0.0          ┆ … ┆ Unknown ┆ 0.0       ┆ 0.0     ┆ 0.0   │\n",
       "└────────┴───────────────┴──────────────┴──────────────┴───┴─────────┴───────────┴─────────┴───────┘"
      ]
     },
     "metadata": {},
     "output_type": "display_data"
    },
    {
     "data": {
      "text/html": [
       "<div><style>\n",
       ".dataframe > thead > tr,\n",
       ".dataframe > tbody > tr {\n",
       "  text-align: right;\n",
       "  white-space: pre-wrap;\n",
       "}\n",
       "</style>\n",
       "<small>shape: (11, 7)</small><table border=\"1\" class=\"dataframe\"><thead><tr><th>sector</th><th>stock_count</th><th>avg_news_score</th><th>avg_bullish_percent</th><th>avg_articles</th><th>avg_market_cap</th><th>avg_pe_ratio</th></tr><tr><td>str</td><td>u32</td><td>f64</td><td>f64</td><td>f64</td><td>f64</td><td>f64</td></tr></thead><tbody><tr><td>&quot;Real Estate&quot;</td><td>23</td><td>0.58893</td><td>0.588383</td><td>8.434783</td><td>4.0380e10</td><td>59.008261</td></tr><tr><td>&quot;Consumer Cyclical&quot;</td><td>42</td><td>0.578512</td><td>0.612669</td><td>15.404762</td><td>1.3643e11</td><td>32.742857</td></tr><tr><td>&quot;Utilities&quot;</td><td>28</td><td>0.572193</td><td>0.499129</td><td>17.857143</td><td>4.1876e10</td><td>21.096429</td></tr><tr><td>&quot;Consumer Defensive&quot;</td><td>31</td><td>0.570526</td><td>0.529226</td><td>16.967742</td><td>1.0391e11</td><td>21.669677</td></tr><tr><td>&quot;Healthcare&quot;</td><td>54</td><td>0.568433</td><td>0.480474</td><td>12.12963</td><td>9.2179e10</td><td>27.541481</td></tr><tr><td>&hellip;</td><td>&hellip;</td><td>&hellip;</td><td>&hellip;</td><td>&hellip;</td><td>&hellip;</td><td>&hellip;</td></tr><tr><td>&quot;Industrials&quot;</td><td>58</td><td>0.566976</td><td>0.5153</td><td>10.431034</td><td>6.5003e10</td><td>31.781379</td></tr><tr><td>&quot;Communication Services&quot;</td><td>20</td><td>0.562095</td><td>0.48574</td><td>23.05</td><td>3.9500e11</td><td>20.262</td></tr><tr><td>&quot;Financial Services&quot;</td><td>54</td><td>0.557509</td><td>0.457233</td><td>14.981481</td><td>1.0907e11</td><td>21.227778</td></tr><tr><td>&quot;Energy&quot;</td><td>22</td><td>0.553659</td><td>0.444491</td><td>5.409091</td><td>7.2351e10</td><td>20.239091</td></tr><tr><td>&quot;Basic Materials&quot;</td><td>15</td><td>0.549373</td><td>0.3982</td><td>6.4</td><td>3.0009e10</td><td>177.694</td></tr></tbody></table></div>"
      ],
      "text/plain": [
       "shape: (11, 7)\n",
       "┌──────────────┬─────────────┬─────────────┬─────────────┬─────────────┬─────────────┬─────────────┐\n",
       "│ sector       ┆ stock_count ┆ avg_news_sc ┆ avg_bullish ┆ avg_article ┆ avg_market_ ┆ avg_pe_rati │\n",
       "│ ---          ┆ ---         ┆ ore         ┆ _percent    ┆ s           ┆ cap         ┆ o           │\n",
       "│ str          ┆ u32         ┆ ---         ┆ ---         ┆ ---         ┆ ---         ┆ ---         │\n",
       "│              ┆             ┆ f64         ┆ f64         ┆ f64         ┆ f64         ┆ f64         │\n",
       "╞══════════════╪═════════════╪═════════════╪═════════════╪═════════════╪═════════════╪═════════════╡\n",
       "│ Real Estate  ┆ 23          ┆ 0.58893     ┆ 0.588383    ┆ 8.434783    ┆ 4.0380e10   ┆ 59.008261   │\n",
       "│ Consumer     ┆ 42          ┆ 0.578512    ┆ 0.612669    ┆ 15.404762   ┆ 1.3643e11   ┆ 32.742857   │\n",
       "│ Cyclical     ┆             ┆             ┆             ┆             ┆             ┆             │\n",
       "│ Utilities    ┆ 28          ┆ 0.572193    ┆ 0.499129    ┆ 17.857143   ┆ 4.1876e10   ┆ 21.096429   │\n",
       "│ Consumer     ┆ 31          ┆ 0.570526    ┆ 0.529226    ┆ 16.967742   ┆ 1.0391e11   ┆ 21.669677   │\n",
       "│ Defensive    ┆             ┆             ┆             ┆             ┆             ┆             │\n",
       "│ Healthcare   ┆ 54          ┆ 0.568433    ┆ 0.480474    ┆ 12.12963    ┆ 9.2179e10   ┆ 27.541481   │\n",
       "│ …            ┆ …           ┆ …           ┆ …           ┆ …           ┆ …           ┆ …           │\n",
       "│ Industrials  ┆ 58          ┆ 0.566976    ┆ 0.5153      ┆ 10.431034   ┆ 6.5003e10   ┆ 31.781379   │\n",
       "│ Communicatio ┆ 20          ┆ 0.562095    ┆ 0.48574     ┆ 23.05       ┆ 3.9500e11   ┆ 20.262      │\n",
       "│ n Services   ┆             ┆             ┆             ┆             ┆             ┆             │\n",
       "│ Financial    ┆ 54          ┆ 0.557509    ┆ 0.457233    ┆ 14.981481   ┆ 1.0907e11   ┆ 21.227778   │\n",
       "│ Services     ┆             ┆             ┆             ┆             ┆             ┆             │\n",
       "│ Energy       ┆ 22          ┆ 0.553659    ┆ 0.444491    ┆ 5.409091    ┆ 7.2351e10   ┆ 20.239091   │\n",
       "│ Basic        ┆ 15          ┆ 0.549373    ┆ 0.3982      ┆ 6.4         ┆ 3.0009e10   ┆ 177.694     │\n",
       "│ Materials    ┆             ┆             ┆             ┆             ┆             ┆             │\n",
       "└──────────────┴─────────────┴─────────────┴─────────────┴─────────────┴─────────────┴─────────────┘"
      ]
     },
     "metadata": {},
     "output_type": "display_data"
    }
   ],
   "source": [
    "from py.sentiment_analysis import process_sentiment_analysis\n",
    "import polars as pl\n",
    "\n",
    "# Custom parameters\n",
    "results = process_sentiment_analysis(\n",
    "    news_df=news_df,\n",
    "    fundamentals_path='data/fundamentals_stock.csv',\n",
    "    min_articles=5,           # Require more articles\n",
    "    min_news_score=0.5,       # Higher news score threshold  \n",
    "    display_results=False     # Don't print results\n",
    ")\n",
    "\n",
    "# Extract all results\n",
    "comprehensive_screened = results['comprehensive_screened']\n",
    "sector_summary = results['sector_summary']\n",
    "\n",
    "display(comprehensive_screened.head())\n",
    "display(sector_summary)"
   ]
  },
  {
   "cell_type": "markdown",
   "metadata": {},
   "source": [
    "### 3.3 Stock Universe Selection\n",
    "\n",
    "**Selection Criteria:**\n",
    "- Top 100 stocks ranked by `averageSentimentScore`\n",
    "- Must have known sector classification\n",
    "- Excludes stocks already in long-term portfolio (avoid overlap)\n",
    "- Focus on stocks with strong positive sentiment momentum"
   ]
  },
  {
   "cell_type": "code",
   "execution_count": 7,
   "metadata": {},
   "outputs": [
    {
     "name": "stdout",
     "output_type": "stream",
     "text": [
      "🎯 Selected 100 stocks (excluded 5 long-term holdings)\n"
     ]
    },
    {
     "data": {
      "text/html": [
       "<div><style>\n",
       ".dataframe > thead > tr,\n",
       ".dataframe > tbody > tr {\n",
       "  text-align: right;\n",
       "  white-space: pre-wrap;\n",
       "}\n",
       "</style>\n",
       "<small>shape: (5, 13)</small><table border=\"1\" class=\"dataframe\"><thead><tr><th>symbol</th><th>articlesInLastWeek</th><th>companyNewsScore</th><th>bearishPercent</th><th>bullishPercent</th><th>averageSentimentScore</th><th>totalArticles</th><th>sectorAverageBullishPercent</th><th>sectorAverageNewsScore</th><th>sector</th><th>marketCap</th><th>peRatio</th><th>price</th></tr><tr><td>str</td><td>i64</td><td>f64</td><td>f64</td><td>f64</td><td>f64</td><td>i64</td><td>f64</td><td>f64</td><td>str</td><td>f64</td><td>f64</td><td>f64</td></tr></thead><tbody><tr><td>&quot;DTE&quot;</td><td>11</td><td>0.7112</td><td>0.0</td><td>1.0</td><td>0.4225</td><td>11</td><td>0.4991</td><td>0.5722</td><td>&quot;Utilities&quot;</td><td>2.8013e10</td><td>18.1</td><td>134.99</td></tr><tr><td>&quot;USB&quot;</td><td>5</td><td>0.6808</td><td>0.0</td><td>1.0</td><td>0.3617</td><td>5</td><td>0.4572</td><td>0.5575</td><td>&quot;Financial Services&quot;</td><td>6.9402e10</td><td>10.94</td><td>44.54</td></tr><tr><td>&quot;ATO&quot;</td><td>6</td><td>0.6782</td><td>0.0</td><td>0.6667</td><td>0.3563</td><td>6</td><td>0.4991</td><td>0.5722</td><td>&quot;Utilities&quot;</td><td>2.4327e10</td><td>21.24</td><td>153.16</td></tr><tr><td>&quot;MCK&quot;</td><td>5</td><td>0.6558</td><td>0.0</td><td>0.4</td><td>0.3115</td><td>5</td><td>0.4805</td><td>0.5684</td><td>&quot;Healthcare&quot;</td><td>8.8848e10</td><td>27.78</td><td>710.78</td></tr><tr><td>&quot;ULTA&quot;</td><td>5</td><td>0.6517</td><td>0.0</td><td>0.6</td><td>0.3033</td><td>5</td><td>0.6127</td><td>0.5785</td><td>&quot;Consumer Cyclical&quot;</td><td>2.0583e10</td><td>18.14</td><td>457.96</td></tr></tbody></table></div>"
      ],
      "text/plain": [
       "shape: (5, 13)\n",
       "┌────────┬─────────────┬─────────────┬─────────────┬───┬────────────┬───────────┬─────────┬────────┐\n",
       "│ symbol ┆ articlesInL ┆ companyNews ┆ bearishPerc ┆ … ┆ sector     ┆ marketCap ┆ peRatio ┆ price  │\n",
       "│ ---    ┆ astWeek     ┆ Score       ┆ ent         ┆   ┆ ---        ┆ ---       ┆ ---     ┆ ---    │\n",
       "│ str    ┆ ---         ┆ ---         ┆ ---         ┆   ┆ str        ┆ f64       ┆ f64     ┆ f64    │\n",
       "│        ┆ i64         ┆ f64         ┆ f64         ┆   ┆            ┆           ┆         ┆        │\n",
       "╞════════╪═════════════╪═════════════╪═════════════╪═══╪════════════╪═══════════╪═════════╪════════╡\n",
       "│ DTE    ┆ 11          ┆ 0.7112      ┆ 0.0         ┆ … ┆ Utilities  ┆ 2.8013e10 ┆ 18.1    ┆ 134.99 │\n",
       "│ USB    ┆ 5           ┆ 0.6808      ┆ 0.0         ┆ … ┆ Financial  ┆ 6.9402e10 ┆ 10.94   ┆ 44.54  │\n",
       "│        ┆             ┆             ┆             ┆   ┆ Services   ┆           ┆         ┆        │\n",
       "│ ATO    ┆ 6           ┆ 0.6782      ┆ 0.0         ┆ … ┆ Utilities  ┆ 2.4327e10 ┆ 21.24   ┆ 153.16 │\n",
       "│ MCK    ┆ 5           ┆ 0.6558      ┆ 0.0         ┆ … ┆ Healthcare ┆ 8.8848e10 ┆ 27.78   ┆ 710.78 │\n",
       "│ ULTA   ┆ 5           ┆ 0.6517      ┆ 0.0         ┆ … ┆ Consumer   ┆ 2.0583e10 ┆ 18.14   ┆ 457.96 │\n",
       "│        ┆             ┆             ┆             ┆   ┆ Cyclical   ┆           ┆         ┆        │\n",
       "└────────┴─────────────┴─────────────┴─────────────┴───┴────────────┴───────────┴─────────┴────────┘"
      ]
     },
     "metadata": {},
     "output_type": "display_data"
    }
   ],
   "source": [
    "# Load exclusions and select top sentiment stocks\n",
    "long_term_tickers = pl.read_excel(output_file, sheet_name='long_term_portfolio')['Ticker'].to_list()\n",
    "selected_stocks = (comprehensive_screened\n",
    "    .filter(pl.col(\"sector\") != 'Unknown')\n",
    "    .filter(~pl.col(\"symbol\").is_in(long_term_tickers))\n",
    "    .sort(\"averageSentimentScore\", descending=True)\n",
    "    .head(100))\n",
    "\n",
    "screened_tickers = selected_stocks['symbol'].to_list()\n",
    "\n",
    "print(f\"🎯 Selected {len(screened_tickers)} stocks (excluded {len(long_term_tickers)} long-term holdings)\")\n",
    "display(selected_stocks.head())"
   ]
  },
  {
   "cell_type": "markdown",
   "metadata": {},
   "source": [
    "## **4. Technical Analysis Setup**"
   ]
  },
  {
   "cell_type": "markdown",
   "metadata": {},
   "source": [
    "### 4.1 Historical Price Data Loading\n",
    "Loads and cleans historical price data for the selected stock universe."
   ]
  },
  {
   "cell_type": "code",
   "execution_count": 8,
   "metadata": {},
   "outputs": [
    {
     "name": "stdout",
     "output_type": "stream",
     "text": [
      "Found 99 of 100 tickers in data/daily_stock_quotes.csv\n",
      "Missing tickers: ['GEV']\n",
      "📊 Loaded 92 stocks with complete data (2512 days)\n"
     ]
    },
    {
     "data": {
      "application/vnd.microsoft.datawrangler.viewer.v0+json": {
       "columns": [
        {
         "name": "Date",
         "rawType": "datetime64[ns]",
         "type": "datetime"
        },
        {
         "name": "ABT",
         "rawType": "float64",
         "type": "float"
        },
        {
         "name": "ACN",
         "rawType": "float64",
         "type": "float"
        },
        {
         "name": "AES",
         "rawType": "float64",
         "type": "float"
        },
        {
         "name": "ALB",
         "rawType": "float64",
         "type": "float"
        },
        {
         "name": "ALL",
         "rawType": "float64",
         "type": "float"
        },
        {
         "name": "AMGN",
         "rawType": "float64",
         "type": "float"
        },
        {
         "name": "AMP",
         "rawType": "float64",
         "type": "float"
        },
        {
         "name": "ATO",
         "rawType": "float64",
         "type": "float"
        },
        {
         "name": "AVGO",
         "rawType": "float64",
         "type": "float"
        },
        {
         "name": "AWK",
         "rawType": "float64",
         "type": "float"
        },
        {
         "name": "BAC",
         "rawType": "float64",
         "type": "float"
        },
        {
         "name": "BK",
         "rawType": "float64",
         "type": "float"
        },
        {
         "name": "BKNG",
         "rawType": "float64",
         "type": "float"
        },
        {
         "name": "BMY",
         "rawType": "float64",
         "type": "float"
        },
        {
         "name": "CB",
         "rawType": "float64",
         "type": "float"
        },
        {
         "name": "CCL",
         "rawType": "float64",
         "type": "float"
        },
        {
         "name": "CDNS",
         "rawType": "float64",
         "type": "float"
        },
        {
         "name": "CL",
         "rawType": "float64",
         "type": "float"
        },
        {
         "name": "CMCSA",
         "rawType": "float64",
         "type": "float"
        },
        {
         "name": "CME",
         "rawType": "float64",
         "type": "float"
        },
        {
         "name": "CMG",
         "rawType": "float64",
         "type": "float"
        },
        {
         "name": "CMS",
         "rawType": "float64",
         "type": "float"
        },
        {
         "name": "CNC",
         "rawType": "float64",
         "type": "float"
        },
        {
         "name": "COO",
         "rawType": "float64",
         "type": "float"
        },
        {
         "name": "COST",
         "rawType": "float64",
         "type": "float"
        },
        {
         "name": "CSCO",
         "rawType": "float64",
         "type": "float"
        },
        {
         "name": "CTAS",
         "rawType": "float64",
         "type": "float"
        },
        {
         "name": "CTSH",
         "rawType": "float64",
         "type": "float"
        },
        {
         "name": "CVS",
         "rawType": "float64",
         "type": "float"
        },
        {
         "name": "DAL",
         "rawType": "float64",
         "type": "float"
        },
        {
         "name": "DIS",
         "rawType": "float64",
         "type": "float"
        },
        {
         "name": "DTE",
         "rawType": "float64",
         "type": "float"
        },
        {
         "name": "EMR",
         "rawType": "float64",
         "type": "float"
        },
        {
         "name": "ETN",
         "rawType": "float64",
         "type": "float"
        },
        {
         "name": "FCX",
         "rawType": "float64",
         "type": "float"
        },
        {
         "name": "FICO",
         "rawType": "float64",
         "type": "float"
        },
        {
         "name": "FOX",
         "rawType": "float64",
         "type": "float"
        },
        {
         "name": "FSLR",
         "rawType": "float64",
         "type": "float"
        },
        {
         "name": "GE",
         "rawType": "float64",
         "type": "float"
        },
        {
         "name": "GEN",
         "rawType": "float64",
         "type": "float"
        },
        {
         "name": "GOOGL",
         "rawType": "float64",
         "type": "float"
        },
        {
         "name": "GRMN",
         "rawType": "float64",
         "type": "float"
        },
        {
         "name": "HAL",
         "rawType": "float64",
         "type": "float"
        },
        {
         "name": "HD",
         "rawType": "float64",
         "type": "float"
        },
        {
         "name": "HII",
         "rawType": "float64",
         "type": "float"
        },
        {
         "name": "HWM",
         "rawType": "float64",
         "type": "float"
        },
        {
         "name": "IFF",
         "rawType": "float64",
         "type": "float"
        },
        {
         "name": "INTU",
         "rawType": "float64",
         "type": "float"
        },
        {
         "name": "ISRG",
         "rawType": "float64",
         "type": "float"
        },
        {
         "name": "JNJ",
         "rawType": "float64",
         "type": "float"
        },
        {
         "name": "LDOS",
         "rawType": "float64",
         "type": "float"
        },
        {
         "name": "MAR",
         "rawType": "float64",
         "type": "float"
        },
        {
         "name": "MCK",
         "rawType": "float64",
         "type": "float"
        },
        {
         "name": "MCO",
         "rawType": "float64",
         "type": "float"
        },
        {
         "name": "MDLZ",
         "rawType": "float64",
         "type": "float"
        },
        {
         "name": "MDT",
         "rawType": "float64",
         "type": "float"
        },
        {
         "name": "MMM",
         "rawType": "float64",
         "type": "float"
        },
        {
         "name": "MO",
         "rawType": "float64",
         "type": "float"
        },
        {
         "name": "MOS",
         "rawType": "float64",
         "type": "float"
        },
        {
         "name": "MS",
         "rawType": "float64",
         "type": "float"
        },
        {
         "name": "MSCI",
         "rawType": "float64",
         "type": "float"
        },
        {
         "name": "MSFT",
         "rawType": "float64",
         "type": "float"
        },
        {
         "name": "NEE",
         "rawType": "float64",
         "type": "float"
        },
        {
         "name": "NEM",
         "rawType": "float64",
         "type": "float"
        },
        {
         "name": "NFLX",
         "rawType": "float64",
         "type": "float"
        },
        {
         "name": "NOW",
         "rawType": "float64",
         "type": "float"
        },
        {
         "name": "ODFL",
         "rawType": "float64",
         "type": "float"
        },
        {
         "name": "PANW",
         "rawType": "float64",
         "type": "float"
        },
        {
         "name": "PEG",
         "rawType": "float64",
         "type": "float"
        },
        {
         "name": "PEP",
         "rawType": "float64",
         "type": "float"
        },
        {
         "name": "PFE",
         "rawType": "float64",
         "type": "float"
        },
        {
         "name": "RCL",
         "rawType": "float64",
         "type": "float"
        },
        {
         "name": "RF",
         "rawType": "float64",
         "type": "float"
        },
        {
         "name": "ROK",
         "rawType": "float64",
         "type": "float"
        },
        {
         "name": "RTX",
         "rawType": "float64",
         "type": "float"
        },
        {
         "name": "SLB",
         "rawType": "float64",
         "type": "float"
        },
        {
         "name": "STLD",
         "rawType": "float64",
         "type": "float"
        },
        {
         "name": "STX",
         "rawType": "float64",
         "type": "float"
        },
        {
         "name": "SYF",
         "rawType": "float64",
         "type": "float"
        },
        {
         "name": "TEL",
         "rawType": "float64",
         "type": "float"
        },
        {
         "name": "TGT",
         "rawType": "float64",
         "type": "float"
        },
        {
         "name": "TJX",
         "rawType": "float64",
         "type": "float"
        },
        {
         "name": "TT",
         "rawType": "float64",
         "type": "float"
        },
        {
         "name": "ULTA",
         "rawType": "float64",
         "type": "float"
        },
        {
         "name": "USB",
         "rawType": "float64",
         "type": "float"
        },
        {
         "name": "VRTX",
         "rawType": "float64",
         "type": "float"
        },
        {
         "name": "VZ",
         "rawType": "float64",
         "type": "float"
        },
        {
         "name": "WBD",
         "rawType": "float64",
         "type": "float"
        },
        {
         "name": "WELL",
         "rawType": "float64",
         "type": "float"
        },
        {
         "name": "WMT",
         "rawType": "float64",
         "type": "float"
        },
        {
         "name": "WSM",
         "rawType": "float64",
         "type": "float"
        },
        {
         "name": "ZTS",
         "rawType": "float64",
         "type": "float"
        }
       ],
       "ref": "7b8a9ca8-d4cc-4237-8c71-8e3914bf1db9",
       "rows": [
        [
         "2015-06-15 00:00:00",
         "39.75",
         "81.32",
         "9.33",
         "50.59",
         "53.73",
         "116.6",
         "102.97",
         "40.69",
         "10.89",
         "40.99",
         "14.18",
         "33.58",
         "1162.65",
         "47.46",
         "86.74",
         "40.742844",
         "19.82",
         "51.73",
         "23.29",
         "65.01",
         "12.08",
         "23.69",
         "38.88",
         "43.72",
         "115.18",
         "20.85",
         "18.93",
         "56.54",
         "77.06",
         "36.02",
         "101.44",
         "45.4",
         "44.71",
         "54.45",
         "17.65",
         "86.865929",
         "29.35",
         "53.475",
         "112.67",
         "9.04",
         "27.02",
         "33.0",
         "38.03",
         "87.46",
         "97.23",
         "25.6380338759",
         "86.09",
         "95.03",
         "54.63",
         "74.44",
         "25.71",
         "70.05",
         "216.31",
         "97.52",
         "32.33",
         "58.66",
         "93.74",
         "25.15",
         "36.88",
         "28.14",
         "54.89",
         "39.43",
         "19.32",
         "19.01",
         "93.4314",
         "77.639999",
         "22.51",
         "29.47",
         "28.44",
         "69.62",
         "21.36",
         "68.56",
         "7.48",
         "102.01",
         "53.35",
         "68.52",
         "17.11",
         "33.0",
         "26.53",
         "56.52",
         "60.29",
         "28.28",
         "45.31",
         "154.57",
         "31.33",
         "123.495",
         "28.14",
         "32.73",
         "45.35",
         "19.82",
         "31.53",
         "45.7"
        ],
        [
         "2015-06-16 00:00:00",
         "40.09",
         "82.09",
         "9.43",
         "50.64",
         "54.26",
         "116.7",
         "103.43",
         "41.09",
         "10.81",
         "40.68",
         "14.25",
         "33.51",
         "1163.48",
         "47.86",
         "87.44",
         "40.932629",
         "19.86",
         "52.24",
         "23.5",
         "65.21",
         "12.01",
         "23.71",
         "39.61",
         "43.75",
         "115.81",
         "21.01",
         "19.14",
         "56.31",
         "77.5",
         "35.91",
         "102.25",
         "45.6",
         "44.65",
         "54.1",
         "17.84",
         "87.644913",
         "29.26",
         "52.15",
         "112.71",
         "9.12",
         "27.11",
         "33.79",
         "37.92",
         "87.64",
         "97.36",
         "25.6807639323",
         "87.56",
         "95.66",
         "54.54",
         "75.11",
         "25.93",
         "69.79",
         "216.93",
         "97.59",
         "32.84",
         "58.8",
         "94.11",
         "25.4",
         "37.0",
         "28.29",
         "55.32",
         "39.74",
         "19.4",
         "18.94",
         "95.272858",
         "79.4",
         "22.49",
         "29.45",
         "28.56",
         "70.3",
         "21.36",
         "68.92",
         "7.55",
         "102.16",
         "53.51",
         "68.72",
         "17.22",
         "32.9",
         "26.15",
         "57.53",
         "60.68",
         "28.41",
         "45.32",
         "155.5",
         "31.47",
         "123.34",
         "28.39",
         "32.89",
         "45.67",
         "19.93",
         "31.69",
         "46.11"
        ],
        [
         "2015-06-17 00:00:00",
         "40.16",
         "82.29",
         "9.49",
         "51.05",
         "54.14",
         "116.26",
         "103.34",
         "41.23",
         "10.74",
         "40.86",
         "14.1",
         "33.47",
         "1150.99",
         "48.1",
         "87.48",
         "41.044769",
         "20.02",
         "52.58",
         "23.8",
         "65.15",
         "12.14",
         "24.0",
         "39.244999",
         "44.09",
         "116.56",
         "21.17",
         "19.2",
         "55.74",
         "77.99",
         "36.11",
         "102.64",
         "46.14",
         "44.45",
         "54.05",
         "18.04",
         "86.955803",
         "29.56",
         "51.76",
         "112.92",
         "9.29",
         "27.2",
         "33.76",
         "38.16",
         "87.83",
         "97.96",
         "25.552573763",
         "87.83",
         "95.76",
         "54.31",
         "75.39",
         "25.89",
         "70.05",
         "216.3",
         "97.94",
         "32.88",
         "58.88",
         "94.39",
         "25.69",
         "37.23",
         "28.18",
         "55.39",
         "39.86",
         "19.63",
         "19.4",
         "94.2714",
         "79.919998",
         "22.73",
         "30.11",
         "28.78",
         "70.68",
         "21.32",
         "68.9",
         "7.44",
         "102.59",
         "53.57",
         "68.7",
         "17.18",
         "32.89",
         "26.35",
         "57.33",
         "61.53",
         "28.56",
         "45.27",
         "155.619995",
         "31.5",
         "124.045",
         "28.3",
         "33.34",
         "45.82",
         "20.04",
         "31.95",
         "46.53"
        ],
        [
         "2015-06-18 00:00:00",
         "41.3",
         "82.61",
         "9.62",
         "52.09",
         "55.09",
         "119.6",
         "104.25",
         "41.84",
         "10.92",
         "41.59",
         "14.11",
         "33.56",
         "1161.26",
         "48.33",
         "88.58",
         "41.941921",
         "20.16",
         "53.18",
         "24.14",
         "64.85",
         "12.12",
         "24.34",
         "39.535",
         "44.1",
         "117.92",
         "21.38",
         "19.4",
         "56.79",
         "78.92",
         "36.6",
         "104.23",
         "46.8",
         "44.75",
         "54.57",
         "18.14",
         "88.783409",
         "29.83",
         "51.98",
         "114.3",
         "9.43",
         "27.68",
         "34.76",
         "37.22",
         "88.92",
         "98.29",
         "25.46711365",
         "89.22",
         "96.27",
         "55.11",
         "76.63",
         "26.13",
         "71.08",
         "218.41",
         "99.37",
         "32.93",
         "59.67",
         "95.99",
         "26.16",
         "37.36",
         "28.32",
         "55.55",
         "40.51",
         "19.93",
         "19.78",
         "94.742859",
         "80.97",
         "23.03",
         "30.48",
         "29.27",
         "71.57",
         "21.57",
         "71.22",
         "7.48",
         "103.4",
         "53.95",
         "67.9",
         "17.28",
         "33.48",
         "26.41",
         "57.96",
         "62.35",
         "29.19",
         "45.56",
         "156.479996",
         "31.6",
         "127.63",
         "28.6",
         "33.9",
         "46.26",
         "20.11",
         "32.18",
         "46.84"
        ],
        [
         "2015-06-19 00:00:00",
         "41.25",
         "82.37",
         "9.62",
         "51.19",
         "53.55",
         "120.05",
         "102.93",
         "41.69",
         "10.91",
         "41.47",
         "13.94",
         "33.45",
         "1145.93",
         "48.46",
         "87.22",
         "42.200718",
         "20.07",
         "52.97",
         "24.15",
         "63.49",
         "12.31",
         "24.11",
         "39.74",
         "44.64",
         "117.76",
         "21.25",
         "19.48",
         "56.1",
         "79.23",
         "37.16",
         "103.68",
         "46.57",
         "44.26",
         "53.92",
         "17.81",
         "90.211548",
         "29.77",
         "51.03",
         "113.76",
         "9.28",
         "27.74",
         "34.97",
         "36.61",
         "89.39",
         "97.84",
         "25.4884786783",
         "88.81",
         "96.2",
         "54.97",
         "76.25",
         "25.95",
         "70.61",
         "218.23",
         "99.42",
         "33.08",
         "59.66",
         "95.59",
         "26.09",
         "37.2",
         "28.03",
         "55.47",
         "39.97",
         "19.68",
         "19.5",
         "93.8714",
         "80.379997",
         "23.11",
         "30.68",
         "29.13",
         "71.29",
         "21.45",
         "71.38",
         "7.44",
         "102.39",
         "53.48",
         "66.36",
         "17.22",
         "32.99",
         "26.49",
         "57.33",
         "62.47",
         "28.96",
         "45.27",
         "154.729996",
         "31.5",
         "128.04",
         "28.41",
         "33.91",
         "46.17",
         "20.04",
         "31.76",
         "46.6"
        ]
       ],
       "shape": {
        "columns": 92,
        "rows": 5
       }
      },
      "text/html": [
       "<div>\n",
       "<style scoped>\n",
       "    .dataframe tbody tr th:only-of-type {\n",
       "        vertical-align: middle;\n",
       "    }\n",
       "\n",
       "    .dataframe tbody tr th {\n",
       "        vertical-align: top;\n",
       "    }\n",
       "\n",
       "    .dataframe thead th {\n",
       "        text-align: right;\n",
       "    }\n",
       "</style>\n",
       "<table border=\"1\" class=\"dataframe\">\n",
       "  <thead>\n",
       "    <tr style=\"text-align: right;\">\n",
       "      <th></th>\n",
       "      <th>ABT</th>\n",
       "      <th>ACN</th>\n",
       "      <th>AES</th>\n",
       "      <th>ALB</th>\n",
       "      <th>ALL</th>\n",
       "      <th>AMGN</th>\n",
       "      <th>AMP</th>\n",
       "      <th>ATO</th>\n",
       "      <th>AVGO</th>\n",
       "      <th>AWK</th>\n",
       "      <th>...</th>\n",
       "      <th>TT</th>\n",
       "      <th>ULTA</th>\n",
       "      <th>USB</th>\n",
       "      <th>VRTX</th>\n",
       "      <th>VZ</th>\n",
       "      <th>WBD</th>\n",
       "      <th>WELL</th>\n",
       "      <th>WMT</th>\n",
       "      <th>WSM</th>\n",
       "      <th>ZTS</th>\n",
       "    </tr>\n",
       "    <tr>\n",
       "      <th>Date</th>\n",
       "      <th></th>\n",
       "      <th></th>\n",
       "      <th></th>\n",
       "      <th></th>\n",
       "      <th></th>\n",
       "      <th></th>\n",
       "      <th></th>\n",
       "      <th></th>\n",
       "      <th></th>\n",
       "      <th></th>\n",
       "      <th></th>\n",
       "      <th></th>\n",
       "      <th></th>\n",
       "      <th></th>\n",
       "      <th></th>\n",
       "      <th></th>\n",
       "      <th></th>\n",
       "      <th></th>\n",
       "      <th></th>\n",
       "      <th></th>\n",
       "      <th></th>\n",
       "    </tr>\n",
       "  </thead>\n",
       "  <tbody>\n",
       "    <tr>\n",
       "      <th>2015-06-15</th>\n",
       "      <td>39.75</td>\n",
       "      <td>81.32</td>\n",
       "      <td>9.33</td>\n",
       "      <td>50.59</td>\n",
       "      <td>53.73</td>\n",
       "      <td>116.60</td>\n",
       "      <td>102.97</td>\n",
       "      <td>40.69</td>\n",
       "      <td>10.89</td>\n",
       "      <td>40.99</td>\n",
       "      <td>...</td>\n",
       "      <td>45.31</td>\n",
       "      <td>154.570000</td>\n",
       "      <td>31.33</td>\n",
       "      <td>123.495</td>\n",
       "      <td>28.14</td>\n",
       "      <td>32.73</td>\n",
       "      <td>45.35</td>\n",
       "      <td>19.82</td>\n",
       "      <td>31.53</td>\n",
       "      <td>45.70</td>\n",
       "    </tr>\n",
       "    <tr>\n",
       "      <th>2015-06-16</th>\n",
       "      <td>40.09</td>\n",
       "      <td>82.09</td>\n",
       "      <td>9.43</td>\n",
       "      <td>50.64</td>\n",
       "      <td>54.26</td>\n",
       "      <td>116.70</td>\n",
       "      <td>103.43</td>\n",
       "      <td>41.09</td>\n",
       "      <td>10.81</td>\n",
       "      <td>40.68</td>\n",
       "      <td>...</td>\n",
       "      <td>45.32</td>\n",
       "      <td>155.500000</td>\n",
       "      <td>31.47</td>\n",
       "      <td>123.340</td>\n",
       "      <td>28.39</td>\n",
       "      <td>32.89</td>\n",
       "      <td>45.67</td>\n",
       "      <td>19.93</td>\n",
       "      <td>31.69</td>\n",
       "      <td>46.11</td>\n",
       "    </tr>\n",
       "    <tr>\n",
       "      <th>2015-06-17</th>\n",
       "      <td>40.16</td>\n",
       "      <td>82.29</td>\n",
       "      <td>9.49</td>\n",
       "      <td>51.05</td>\n",
       "      <td>54.14</td>\n",
       "      <td>116.26</td>\n",
       "      <td>103.34</td>\n",
       "      <td>41.23</td>\n",
       "      <td>10.74</td>\n",
       "      <td>40.86</td>\n",
       "      <td>...</td>\n",
       "      <td>45.27</td>\n",
       "      <td>155.619995</td>\n",
       "      <td>31.50</td>\n",
       "      <td>124.045</td>\n",
       "      <td>28.30</td>\n",
       "      <td>33.34</td>\n",
       "      <td>45.82</td>\n",
       "      <td>20.04</td>\n",
       "      <td>31.95</td>\n",
       "      <td>46.53</td>\n",
       "    </tr>\n",
       "    <tr>\n",
       "      <th>2015-06-18</th>\n",
       "      <td>41.30</td>\n",
       "      <td>82.61</td>\n",
       "      <td>9.62</td>\n",
       "      <td>52.09</td>\n",
       "      <td>55.09</td>\n",
       "      <td>119.60</td>\n",
       "      <td>104.25</td>\n",
       "      <td>41.84</td>\n",
       "      <td>10.92</td>\n",
       "      <td>41.59</td>\n",
       "      <td>...</td>\n",
       "      <td>45.56</td>\n",
       "      <td>156.479996</td>\n",
       "      <td>31.60</td>\n",
       "      <td>127.630</td>\n",
       "      <td>28.60</td>\n",
       "      <td>33.90</td>\n",
       "      <td>46.26</td>\n",
       "      <td>20.11</td>\n",
       "      <td>32.18</td>\n",
       "      <td>46.84</td>\n",
       "    </tr>\n",
       "    <tr>\n",
       "      <th>2015-06-19</th>\n",
       "      <td>41.25</td>\n",
       "      <td>82.37</td>\n",
       "      <td>9.62</td>\n",
       "      <td>51.19</td>\n",
       "      <td>53.55</td>\n",
       "      <td>120.05</td>\n",
       "      <td>102.93</td>\n",
       "      <td>41.69</td>\n",
       "      <td>10.91</td>\n",
       "      <td>41.47</td>\n",
       "      <td>...</td>\n",
       "      <td>45.27</td>\n",
       "      <td>154.729996</td>\n",
       "      <td>31.50</td>\n",
       "      <td>128.040</td>\n",
       "      <td>28.41</td>\n",
       "      <td>33.91</td>\n",
       "      <td>46.17</td>\n",
       "      <td>20.04</td>\n",
       "      <td>31.76</td>\n",
       "      <td>46.60</td>\n",
       "    </tr>\n",
       "  </tbody>\n",
       "</table>\n",
       "<p>5 rows × 92 columns</p>\n",
       "</div>"
      ],
      "text/plain": [
       "              ABT    ACN   AES    ALB    ALL    AMGN     AMP    ATO   AVGO  \\\n",
       "Date                                                                         \n",
       "2015-06-15  39.75  81.32  9.33  50.59  53.73  116.60  102.97  40.69  10.89   \n",
       "2015-06-16  40.09  82.09  9.43  50.64  54.26  116.70  103.43  41.09  10.81   \n",
       "2015-06-17  40.16  82.29  9.49  51.05  54.14  116.26  103.34  41.23  10.74   \n",
       "2015-06-18  41.30  82.61  9.62  52.09  55.09  119.60  104.25  41.84  10.92   \n",
       "2015-06-19  41.25  82.37  9.62  51.19  53.55  120.05  102.93  41.69  10.91   \n",
       "\n",
       "              AWK  ...     TT        ULTA    USB     VRTX     VZ    WBD  \\\n",
       "Date               ...                                                    \n",
       "2015-06-15  40.99  ...  45.31  154.570000  31.33  123.495  28.14  32.73   \n",
       "2015-06-16  40.68  ...  45.32  155.500000  31.47  123.340  28.39  32.89   \n",
       "2015-06-17  40.86  ...  45.27  155.619995  31.50  124.045  28.30  33.34   \n",
       "2015-06-18  41.59  ...  45.56  156.479996  31.60  127.630  28.60  33.90   \n",
       "2015-06-19  41.47  ...  45.27  154.729996  31.50  128.040  28.41  33.91   \n",
       "\n",
       "             WELL    WMT    WSM    ZTS  \n",
       "Date                                    \n",
       "2015-06-15  45.35  19.82  31.53  45.70  \n",
       "2015-06-16  45.67  19.93  31.69  46.11  \n",
       "2015-06-17  45.82  20.04  31.95  46.53  \n",
       "2015-06-18  46.26  20.11  32.18  46.84  \n",
       "2015-06-19  46.17  20.04  31.76  46.60  \n",
       "\n",
       "[5 rows x 92 columns]"
      ]
     },
     "metadata": {},
     "output_type": "display_data"
    }
   ],
   "source": [
    "# Load and clean price data\n",
    "quotes = load_and_filter_data('data/daily_stock_quotes.csv', screened_tickers, start_date, end_date)\n",
    "quotes = quotes.dropna(axis=1, how='any').dropna(axis=0, how='any')\n",
    "available_tickers = quotes.columns.tolist()\n",
    "\n",
    "print(f\"📊 Loaded {len(available_tickers)} stocks with complete data ({quotes.shape[0]} days)\")\n",
    "display(quotes.head())"
   ]
  },
  {
   "cell_type": "markdown",
   "metadata": {},
   "source": [
    "### 4.2 Train-Test Split\n",
    "\n",
    "**Methodology:**\n",
    "- **Training Set**: 80% (historical data for parameter optimization)\n",
    "- **Testing Set**: 20% (recent data for out-of-sample validation)\n",
    "- **Time-based Split**: Ensures realistic forward-testing conditions"
   ]
  },
  {
   "cell_type": "code",
   "execution_count": 9,
   "metadata": {},
   "outputs": [
    {
     "name": "stdout",
     "output_type": "stream",
     "text": [
      "📊 Split: 2009 training (80.0%), 503 testing rows (20.0%)\n",
      "Training Period: 2015-06-15 00:00:00 - 2023-06-06 00:00:00\n",
      "Testing Period: 2023-06-07 00:00:00 - 2025-06-09 00:00:00\n"
     ]
    }
   ],
   "source": [
    "# Split data chronologically\n",
    "train_size = int(0.8 * len(quotes))\n",
    "training_set = quotes.iloc[:train_size]\n",
    "test_set = quotes.iloc[train_size:]\n",
    "\n",
    "print(f\"📊 Split: {len(training_set)} training ({len(training_set)/len(quotes):.1%}), {len(test_set)} testing rows ({len(test_set)/len(quotes):.1%})\")\n",
    "print(f\"Training Period: {training_set.index[0]} - {training_set.index[-1]}\")\n",
    "print(f\"Testing Period: {test_set.index[0]} - {test_set.index[-1]}\")"
   ]
  },
  {
   "cell_type": "markdown",
   "metadata": {},
   "source": [
    "## **5. Technical Strategy Optimization**"
   ]
  },
  {
   "cell_type": "markdown",
   "metadata": {},
   "source": [
    "### 5.1 Parameter Configuration\n",
    "\n",
    "**Trading Signals:**\n",
    "- **SMA Cross**: Simple Moving Average crossover signals\n",
    "- **EMA Cross**: Exponential Moving Average crossover signals\n",
    "\n",
    "**Optimization Profiles:**\n",
    "- **Aggressive**: Faster signals, higher turnover\n",
    "- **Conservative**: Slower signals, more stable\n",
    "- **Ultra-Conservative**: Very slow signals, lowest turnover\n",
    "\n",
    "**Key Constraints:**\n",
    "- Maximum 2 stocks per portfolio (concentration limit)\n",
    "- Multiple parameter iterations for robustness testing"
   ]
  },
  {
   "cell_type": "code",
   "execution_count": 10,
   "metadata": {},
   "outputs": [
    {
     "name": "stdout",
     "output_type": "stream",
     "text": [
      "🎯 Maximum portfolio size: 2 stocks\n"
     ]
    }
   ],
   "source": [
    "max_stocks = 2\n",
    "\n",
    "# Define parameter optimization profiles\n",
    "custom_parameter_iterations = [\n",
    "    {\n",
    "        'name': 'Aggressive', \n",
    "        'ranges': {\n",
    "            'SMA_Cross_Signal': {\n",
    "                'short_periods': [10, 15, 20], \n",
    "                'long_periods': [50, 75, 100]\n",
    "            }, \n",
    "            'EMA_Cross_Signal': {\n",
    "                'short_periods': [8, 12, 16], \n",
    "                'long_periods': [25, 35, 45]\n",
    "            }\n",
    "        }\n",
    "    },\n",
    "    {\n",
    "        'name': 'Conservative', \n",
    "        'ranges': {\n",
    "            'SMA_Cross_Signal': {\n",
    "                'short_periods': [20, 30, 40, 50], \n",
    "                'long_periods': [100, 120, 140, 160]\n",
    "            }, \n",
    "            'EMA_Cross_Signal': {\n",
    "                'short_periods': [12, 20, 26], \n",
    "                'long_periods': [50, 60, 70]\n",
    "            }\n",
    "        }\n",
    "    },\n",
    "    {\n",
    "        'name': 'Ultra-Conservative', \n",
    "        'ranges': {\n",
    "            'SMA_Cross_Signal': {\n",
    "                'short_periods': [20, 50], \n",
    "                'long_periods': [100, 150]\n",
    "            }, \n",
    "            'EMA_Cross_Signal': {\n",
    "                'short_periods': [12, 26], \n",
    "                'long_periods': [50, 70]\n",
    "            }\n",
    "        }\n",
    "    }\n",
    "]\n",
    "\n",
    "print(f\"🎯 Maximum portfolio size: {max_stocks} stocks\")"
   ]
  },
  {
   "cell_type": "markdown",
   "metadata": {},
   "source": [
    "### 5.2 Robust Strategy Selection with Validation\n",
    "\n",
    "**Process:**\n",
    "1. **Multi-Parameter Testing**: Tests various SMA/EMA combinations\n",
    "2. **Stock Rotation**: Tries different stock combinations  \n",
    "3. **Overfitting Detection**: Statistical tests for strategy robustness\n",
    "4. **Walk-Forward Validation**: Validates across multiple time periods\n",
    "5. **Fallback Logic**: Single-stock strategies if multi-stock fails\n",
    "\n",
    "**Success Criteria:**\n",
    "- Strategy not statistically overfitted (p-value > 0.05)\n",
    "- Stability ratio ≥ 50% across validation periods\n",
    "- Positive risk-adjusted returns (Sharpe ratio > 0)"
   ]
  },
  {
   "cell_type": "code",
   "execution_count": 11,
   "metadata": {},
   "outputs": [
    {
     "name": "stdout",
     "output_type": "stream",
     "text": [
      "🔄 Running robust strategy optimization...\n",
      "🎯 ENHANCED STRATEGY SELECTION WITH STOCK ROTATION & OVERFITTING PROTECTION\n",
      "================================================================================\n",
      "📊 Valid tickers after filtering: 92/92\n",
      "Testing 15 random combinations out of 4186 possible\n",
      "📊 Available tickers: ['ABT', 'ACN', 'AES', 'ALB', 'ALL', 'AMGN', 'AMP', 'ATO', 'AVGO', 'AWK', 'BAC', 'BK', 'BKNG', 'BMY', 'CB', 'CCL', 'CDNS', 'CL', 'CMCSA', 'CME', 'CMG', 'CMS', 'CNC', 'COO', 'COST', 'CSCO', 'CTAS', 'CTSH', 'CVS', 'DAL', 'DIS', 'DTE', 'EMR', 'ETN', 'FCX', 'FICO', 'FOX', 'FSLR', 'GE', 'GEN', 'GOOGL', 'GRMN', 'HAL', 'HD', 'HII', 'HWM', 'IFF', 'INTU', 'ISRG', 'JNJ', 'LDOS', 'MAR', 'MCK', 'MCO', 'MDLZ', 'MDT', 'MMM', 'MO', 'MOS', 'MS', 'MSCI', 'MSFT', 'NEE', 'NEM', 'NFLX', 'NOW', 'ODFL', 'PANW', 'PEG', 'PEP', 'PFE', 'RCL', 'RF', 'ROK', 'RTX', 'SLB', 'STLD', 'STX', 'SYF', 'TEL', 'TGT', 'TJX', 'TT', 'ULTA', 'USB', 'VRTX', 'VZ', 'WBD', 'WELL', 'WMT', 'WSM', 'ZTS']\n",
      "Creating combinations of 2 stocks...\n",
      "Testing 20 random combinations out of 4186 possible\n",
      "\n",
      "🔄 STOCK COMBINATION 1/20: ['BAC', 'MOS']\n",
      "------------------------------------------------------------\n",
      "  🔄 ITERATION 1: Aggressive Parameters\n"
     ]
    },
    {
     "name": "stdout",
     "output_type": "stream",
     "text": [
      "    ⚠️ No optimization results in iteration 1\n",
      "  🔄 ITERATION 2: Conservative Parameters\n",
      "    ⚠️ No optimization results in iteration 2\n",
      "  📊 No stable strategy found for ('BAC', 'MOS')\n",
      "\n",
      "🔄 STOCK COMBINATION 2/20: ['AES', 'CTAS']\n",
      "------------------------------------------------------------\n",
      "  🔄 ITERATION 1: Aggressive Parameters\n",
      "🔍 Running Overfitting Analysis...\n",
      "==================================================\n",
      "📊 SUMMARY STATISTICS\n",
      "Strategies tested: 1\n",
      "In-sample mean Sharpe: 0.536\n",
      "Out-sample mean Sharpe: 0.289\n",
      "In-sample mean Sortino: 0.742\n",
      "Out-sample mean Sortino: 0.348\n",
      "\n",
      "📈 STATISTICAL TEST RESULTS\n",
      "Sharpe t-statistic: 1.297\n",
      "Sharpe p-value: 0.209\n",
      "Sortino t-statistic: 1.513\n",
      "Sortino p-value: 0.186\n",
      "\n",
      "🎯 OVERFITTING STATUS: NOT DETECTED\n",
      "   ✅ Sharpe ratio degradation not significant (p=0.209)\n",
      "   ✅ Sortino ratio degradation not significant (p=0.186)\n",
      "\n",
      "💡 RECOMMENDATIONS:\n",
      "  ✅ NO SIGNIFICANT OVERFITTING: The strategy maintains reasonable performance from in-sample to out-of-sample testing.\n",
      "  💡 Continue monitoring:\n",
      "  • Track performance over time\n",
      "  • Consider additional validation periods\n",
      "  • Monitor parameter stability\n",
      "\n",
      "📋 DETAILED TICKER ANALYSIS:\n",
      "\n",
      "CTAS:\n",
      "  In-sample Sharpe: 0.426\n",
      "  Out-sample Sharpe: 0.289\n",
      "  Degradation: 32.1%\n",
      "  Strategy: SMA_Cross_Signal\n",
      "  Periods: 15/50\n",
      "    📊 Holdout Test: ✅ STABLE (p=0.209)\n",
      "    🔄 Running walk-forward validation...\n",
      "\n",
      "🔄 Running walk-forward validation with 3 periods (period length: 628 days)...\n",
      "   Period 1: Train 2015-06-15 00:00:00 to 2019-06-10 00:00:00 (1004 days)\n",
      "   Period 1: Test 2019-06-11 00:00:00 to 2020-09-04 00:00:00 (314 days)\n",
      "🔍 Running Overfitting Analysis...\n",
      "==================================================\n",
      "📊 SUMMARY STATISTICS\n",
      "Strategies tested: 2\n",
      "In-sample mean Sharpe: 0.811\n",
      "Out-sample mean Sharpe: 0.048\n",
      "In-sample mean Sortino: 1.141\n",
      "Out-sample mean Sortino: 0.066\n",
      "\n",
      "📈 STATISTICAL TEST RESULTS\n",
      "Sharpe t-statistic: 1.722\n",
      "Sharpe p-value: 0.114\n",
      "Sortino t-statistic: 1.780\n",
      "Sortino p-value: 0.109\n",
      "\n",
      "🎯 OVERFITTING STATUS: NOT DETECTED\n",
      "   ✅ Sharpe ratio degradation not significant (p=0.114)\n",
      "   ✅ Sortino ratio degradation not significant (p=0.109)\n",
      "\n",
      "💡 RECOMMENDATIONS:\n",
      "  ✅ NO SIGNIFICANT OVERFITTING: The strategy maintains reasonable performance from in-sample to out-of-sample testing.\n",
      "  💡 Continue monitoring:\n",
      "  • Track performance over time\n",
      "  • Consider additional validation periods\n",
      "  • Monitor parameter stability\n",
      "\n",
      "📋 DETAILED TICKER ANALYSIS:\n",
      "\n",
      "CTAS:\n",
      "  In-sample Sharpe: 0.370\n",
      "  Out-sample Sharpe: 0.009\n",
      "  Degradation: 97.7%\n",
      "  Strategy: SMA_Cross_Signal\n",
      "  Periods: 20/50\n",
      "\n",
      "AES:\n",
      "  In-sample Sharpe: 1.253\n",
      "  Out-sample Sharpe: 0.088\n",
      "  Degradation: 93.0%\n",
      "  Strategy: EMA_Cross_Signal\n",
      "  Periods: 16/45\n",
      "   Period 2: Train 2016-09-12 00:00:00 to 2020-09-04 00:00:00 (1004 days)\n",
      "   Period 2: Test 2020-09-08 00:00:00 to 2021-12-03 00:00:00 (314 days)\n",
      "   ⚠️ No optimization results for period 2\n",
      "   Period 3: Train 2017-12-08 00:00:00 to 2021-12-03 00:00:00 (1004 days)\n",
      "   Period 3: Test 2021-12-06 00:00:00 to 2023-03-07 00:00:00 (314 days)\n",
      "   ⚠️ No optimization results for period 3\n",
      "    📈 Walk-Forward Stability: 1/3 (33.3%)\n",
      "    📈 New best overall stability ratio: 33.3%\n",
      "  🔄 ITERATION 2: Conservative Parameters\n",
      "🔍 Running Overfitting Analysis...\n",
      "==================================================\n",
      "📊 SUMMARY STATISTICS\n",
      "Strategies tested: 1\n",
      "In-sample mean Sharpe: 0.447\n",
      "Out-sample mean Sharpe: -0.189\n",
      "In-sample mean Sortino: 0.612\n",
      "Out-sample mean Sortino: -0.212\n",
      "\n",
      "📈 STATISTICAL TEST RESULTS\n",
      "Sharpe t-statistic: 7.943\n",
      "Sharpe p-value: 0.040\n",
      "Sortino t-statistic: 11.916\n",
      "Sortino p-value: 0.027\n",
      "\n",
      "🎯 OVERFITTING STATUS: DETECTED\n",
      "   ⚠️ Sharpe ratio shows significant degradation (p=0.040)\n",
      "   ⚠️ Sortino ratio shows significant degradation (p=0.027)\n",
      "\n",
      "💡 RECOMMENDATIONS:\n",
      "  ⚠️ OVERFITTING DETECTED: The strategy shows significant performance degradation from in-sample to out-of-sample testing.\n",
      "  📉 Severe Sharpe ratio degradation (142.2%). Consider simplifying the strategy or using fewer parameters.\n",
      "  🔄 Recommended actions:\n",
      "  • Use walk-forward optimization\n",
      "  • Reduce parameter search space\n",
      "  • Implement parameter stability constraints\n",
      "  • Consider ensemble methods\n",
      "  • Increase out-of-sample period\n",
      "\n",
      "📋 DETAILED TICKER ANALYSIS:\n",
      "\n",
      "CTAS:\n",
      "  In-sample Sharpe: 0.401\n",
      "  Out-sample Sharpe: -0.189\n",
      "  Degradation: 147.1%\n",
      "  Strategy: EMA_Cross_Signal\n",
      "  Periods: 12/60\n",
      "    📊 Holdout Test: ❌ OVERFITTED (p=0.040)\n",
      "    ❌ Failed holdout test - trying simpler parameters...\n",
      "  📊 Best for ('AES', 'CTAS'): 33.3% stability (Aggressive)\n",
      "\n",
      "🔄 STOCK COMBINATION 3/20: ['DAL', 'LDOS']\n",
      "------------------------------------------------------------\n",
      "  🔄 ITERATION 1: Aggressive Parameters\n",
      "🔍 Running Overfitting Analysis...\n",
      "==================================================\n",
      "📊 SUMMARY STATISTICS\n",
      "Strategies tested: 1\n",
      "In-sample mean Sharpe: 0.100\n",
      "Out-sample mean Sharpe: 0.378\n",
      "In-sample mean Sortino: 0.141\n",
      "Out-sample mean Sortino: 0.427\n",
      "\n",
      "📈 STATISTICAL TEST RESULTS\n",
      "Sharpe t-statistic: -0.476\n",
      "Sharpe p-value: 0.641\n",
      "Sortino t-statistic: -0.368\n",
      "Sortino p-value: 0.612\n",
      "\n",
      "🎯 OVERFITTING STATUS: NOT DETECTED\n",
      "   ✅ Sharpe ratio degradation not significant (p=0.641)\n",
      "   ✅ Sortino ratio degradation not significant (p=0.612)\n",
      "\n",
      "💡 RECOMMENDATIONS:\n",
      "  ✅ NO SIGNIFICANT OVERFITTING: The strategy maintains reasonable performance from in-sample to out-of-sample testing.\n",
      "  💡 Continue monitoring:\n",
      "  • Track performance over time\n",
      "  • Consider additional validation periods\n",
      "  • Monitor parameter stability\n",
      "\n",
      "📋 DETAILED TICKER ANALYSIS:\n",
      "\n",
      "LDOS:\n",
      "  In-sample Sharpe: -0.237\n",
      "  Out-sample Sharpe: 0.378\n",
      "  Degradation: -259.2%\n",
      "  Strategy: EMA_Cross_Signal\n",
      "  Periods: 8/25\n",
      "    📊 Holdout Test: ✅ STABLE (p=0.641)\n",
      "    🔄 Running walk-forward validation...\n",
      "\n",
      "🔄 Running walk-forward validation with 3 periods (period length: 628 days)...\n",
      "   Period 1: Train 2015-06-15 00:00:00 to 2019-06-10 00:00:00 (1004 days)\n",
      "   Period 1: Test 2019-06-11 00:00:00 to 2020-09-04 00:00:00 (314 days)\n",
      "🔍 Running Overfitting Analysis...\n",
      "==================================================\n",
      "📊 SUMMARY STATISTICS\n",
      "Strategies tested: 1\n",
      "In-sample mean Sharpe: 0.463\n",
      "Out-sample mean Sharpe: -1.240\n",
      "In-sample mean Sortino: 0.768\n",
      "Out-sample mean Sortino: -1.415\n",
      "\n",
      "📈 STATISTICAL TEST RESULTS\n",
      "Sharpe t-statistic: 1.702\n",
      "Sharpe p-value: 0.169\n",
      "Sortino t-statistic: 1.350\n",
      "Sortino p-value: 0.203\n",
      "\n",
      "🎯 OVERFITTING STATUS: NOT DETECTED\n",
      "   ✅ Sharpe ratio degradation not significant (p=0.169)\n",
      "   ✅ Sortino ratio degradation not significant (p=0.203)\n",
      "\n",
      "💡 RECOMMENDATIONS:\n",
      "  ✅ NO SIGNIFICANT OVERFITTING: The strategy maintains reasonable performance from in-sample to out-of-sample testing.\n",
      "  💡 Continue monitoring:\n",
      "  • Track performance over time\n",
      "  • Consider additional validation periods\n",
      "  • Monitor parameter stability\n",
      "\n",
      "📋 DETAILED TICKER ANALYSIS:\n",
      "\n",
      "LDOS:\n",
      "  In-sample Sharpe: -0.115\n",
      "  Out-sample Sharpe: -1.240\n",
      "  Degradation: 979.9%\n",
      "  Strategy: SMA_Cross_Signal\n",
      "  Periods: 20/50\n",
      "   Period 2: Train 2016-09-12 00:00:00 to 2020-09-04 00:00:00 (1004 days)\n",
      "   Period 2: Test 2020-09-08 00:00:00 to 2021-12-03 00:00:00 (314 days)\n",
      "🔍 Running Overfitting Analysis...\n",
      "==================================================\n",
      "📊 SUMMARY STATISTICS\n",
      "Strategies tested: 1\n",
      "In-sample mean Sharpe: 0.565\n",
      "Out-sample mean Sharpe: 0.285\n",
      "In-sample mean Sortino: 0.742\n",
      "Out-sample mean Sortino: 0.380\n",
      "\n",
      "📈 STATISTICAL TEST RESULTS\n",
      "Sharpe t-statistic: 0.939\n",
      "Sharpe p-value: 0.260\n",
      "Sortino t-statistic: 0.834\n",
      "Sortino p-value: 0.279\n",
      "\n",
      "🎯 OVERFITTING STATUS: NOT DETECTED\n",
      "   ✅ Sharpe ratio degradation not significant (p=0.260)\n",
      "   ✅ Sortino ratio degradation not significant (p=0.279)\n",
      "\n",
      "💡 RECOMMENDATIONS:\n",
      "  ✅ NO SIGNIFICANT OVERFITTING: The strategy maintains reasonable performance from in-sample to out-of-sample testing.\n",
      "  💡 Continue monitoring:\n",
      "  • Track performance over time\n",
      "  • Consider additional validation periods\n",
      "  • Monitor parameter stability\n",
      "\n",
      "📋 DETAILED TICKER ANALYSIS:\n",
      "\n",
      "LDOS:\n",
      "  In-sample Sharpe: 0.393\n",
      "  Out-sample Sharpe: 0.285\n",
      "  Degradation: 27.4%\n",
      "  Strategy: EMA_Cross_Signal\n",
      "  Periods: 8/25\n",
      "   Period 3: Train 2017-12-08 00:00:00 to 2021-12-03 00:00:00 (1004 days)\n",
      "   Period 3: Test 2021-12-06 00:00:00 to 2023-03-07 00:00:00 (314 days)\n",
      "   ⚠️ No optimization results for period 3\n",
      "    📈 Walk-Forward Stability: 2/3 (66.7%)\n",
      "    ✅ STRATEGY VALIDATION PASSED!\n",
      "✅ Strategy found: ['LDOS']\n"
     ]
    },
    {
     "data": {
      "application/vnd.microsoft.datawrangler.viewer.v0+json": {
       "columns": [
        {
         "name": "index",
         "rawType": "int64",
         "type": "integer"
        },
        {
         "name": "Ticker",
         "rawType": "object",
         "type": "string"
        },
        {
         "name": "Strategy",
         "rawType": "object",
         "type": "string"
        },
        {
         "name": "Best_Sharpe",
         "rawType": "float64",
         "type": "float"
        },
        {
         "name": "Best_Sortino",
         "rawType": "float64",
         "type": "float"
        },
        {
         "name": "CAGR",
         "rawType": "float64",
         "type": "float"
        },
        {
         "name": "Max_Drawdown",
         "rawType": "float64",
         "type": "float"
        },
        {
         "name": "Volatility",
         "rawType": "float64",
         "type": "float"
        },
        {
         "name": "Short_Period",
         "rawType": "int64",
         "type": "integer"
        },
        {
         "name": "Long_Period",
         "rawType": "int64",
         "type": "integer"
        }
       ],
       "ref": "ba743fea-458d-41f1-9f14-8f095ecd70ac",
       "rows": [
        [
         "0",
         "LDOS",
         "EMA_Cross_Signal",
         "0.4369871143292635",
         "0.5904988928368656",
         "0.0867867473251207",
         "-0.44318433756575126",
         "0.2807681082688921",
         "8",
         "25"
        ]
       ],
       "shape": {
        "columns": 9,
        "rows": 1
       }
      },
      "text/html": [
       "<div>\n",
       "<style scoped>\n",
       "    .dataframe tbody tr th:only-of-type {\n",
       "        vertical-align: middle;\n",
       "    }\n",
       "\n",
       "    .dataframe tbody tr th {\n",
       "        vertical-align: top;\n",
       "    }\n",
       "\n",
       "    .dataframe thead th {\n",
       "        text-align: right;\n",
       "    }\n",
       "</style>\n",
       "<table border=\"1\" class=\"dataframe\">\n",
       "  <thead>\n",
       "    <tr style=\"text-align: right;\">\n",
       "      <th></th>\n",
       "      <th>Ticker</th>\n",
       "      <th>Strategy</th>\n",
       "      <th>Best_Sharpe</th>\n",
       "      <th>Best_Sortino</th>\n",
       "      <th>CAGR</th>\n",
       "      <th>Max_Drawdown</th>\n",
       "      <th>Volatility</th>\n",
       "      <th>Short_Period</th>\n",
       "      <th>Long_Period</th>\n",
       "    </tr>\n",
       "  </thead>\n",
       "  <tbody>\n",
       "    <tr>\n",
       "      <th>0</th>\n",
       "      <td>LDOS</td>\n",
       "      <td>EMA_Cross_Signal</td>\n",
       "      <td>0.436987</td>\n",
       "      <td>0.590499</td>\n",
       "      <td>0.086787</td>\n",
       "      <td>-0.443184</td>\n",
       "      <td>0.280768</td>\n",
       "      <td>8</td>\n",
       "      <td>25</td>\n",
       "    </tr>\n",
       "  </tbody>\n",
       "</table>\n",
       "</div>"
      ],
      "text/plain": [
       "  Ticker          Strategy  Best_Sharpe  Best_Sortino      CAGR  Max_Drawdown  \\\n",
       "0   LDOS  EMA_Cross_Signal     0.436987      0.590499  0.086787     -0.443184   \n",
       "\n",
       "   Volatility  Short_Period  Long_Period  \n",
       "0    0.280768             8           25  "
      ]
     },
     "metadata": {},
     "output_type": "display_data"
    },
    {
     "data": {
      "image/png": "[encoded data removed]",
      "text/plain": [
       "<Figure size 1200x800 with 2 Axes>"
      ]
     },
     "metadata": {},
     "output_type": "display_data"
    },
    {
     "name": "stdout",
     "output_type": "stream",
     "text": [
      "\n",
      "🎯 Final: ['LDOS'] | ✅ VALIDATED\n"
     ]
    }
   ],
   "source": [
    "from py.technical_analysis import run_complete_strategy_optimization\n",
    "\n",
    "strategy_result = run_complete_strategy_optimization(\n",
    "    quotes, available_tickers, max_stocks=max_stocks, \n",
    "    custom_parameter_iterations=custom_parameter_iterations,\n",
    "    max_iterations=2  \n",
    ")\n",
    "\n",
    "# Extract results\n",
    "optimization_results = strategy_result['optimization_results']\n",
    "optimization_summary = strategy_result['optimization_summary'] \n",
    "selected_tickers = strategy_result['selected_tickers']\n",
    "is_overfitted = strategy_result['is_overfitted']\n",
    "sharpe_p_value = strategy_result['sharpe_p_value']\n",
    "stability_ratio = strategy_result['stability_ratio']\n",
    "\n",
    "# Final summary\n",
    "validation_emoji = '✅ VALIDATED' if not is_overfitted and stability_ratio >= 0.5 else '⚠️ BEST EFFORT'\n",
    "print(f\"\\n🎯 Final: {selected_tickers} | {validation_emoji}\")"
   ]
  },
  {
   "cell_type": "markdown",
   "metadata": {},
   "source": [
    "### 5.3 Out-of-Sample Strategy Testing\n",
    "\n",
    "**Testing Methodology:**\n",
    "- Uses the reserved 20% test set (unseen during optimization)\n",
    "- Applies optimized parameters to fresh data\n",
    "- Measures real-world strategy performance\n",
    "- Validates strategy robustness outside training period\n",
    "\n",
    "**Performance Metrics:**\n",
    "- Total Return, Volatility, Sharpe Ratio\n",
    "- Maximum Drawdown, Win Rate\n",
    "- Risk-adjusted performance vs benchmark"
   ]
  },
  {
   "cell_type": "code",
   "execution_count": 16,
   "metadata": {},
   "outputs": [
    {
     "name": "stdout",
     "output_type": "stream",
     "text": [
      "🧪 Testing strategy on out-of-sample data...\n"
     ]
    },
    {
     "data": {
      "image/png": "[encoded data removed]",
      "text/plain": [
       "<Figure size 800x600 with 1 Axes>"
      ]
     },
     "metadata": {},
     "output_type": "display_data"
    },
    {
     "data": {
      "image/png": "[encoded data removed]",
      "text/plain": [
       "<Figure size 800x1200 with 3 Axes>"
      ]
     },
     "metadata": {},
     "output_type": "display_data"
    },
    {
     "name": "stderr",
     "output_type": "stream",
     "text": [
      "100%|██████████| 1/1 [00:00<00:00,  7.99it/s]\n"
     ]
    },
    {
     "name": "stdout",
     "output_type": "stream",
     "text": [
      "📊 Selected: ['LDOS']\n",
      "Stat                 Short-Term Strategy\n",
      "-------------------  ---------------------\n",
      "Start                2023-06-06\n",
      "End                  2025-06-09\n",
      "Risk-free rate       4.24%\n",
      "\n",
      "Total Return         81.47%\n",
      "Daily Sharpe         1.13\n",
      "Daily Sortino        1.79\n",
      "CAGR                 34.52%\n",
      "Max Drawdown         -36.86%\n",
      "Calmar Ratio         0.94\n",
      "\n",
      "MTD                  -1.47%\n",
      "3m                   5.42%\n",
      "6m                   -8.20%\n",
      "YTD                  1.89%\n",
      "1Y                   2.12%\n",
      "3Y (ann.)            34.52%\n",
      "5Y (ann.)            -\n",
      "10Y (ann.)           -\n",
      "Since Incep. (ann.)  34.52%\n",
      "\n",
      "Daily Sharpe         1.13\n",
      "Daily Sortino        1.79\n",
      "Daily Mean (ann.)    33.17%\n",
      "Daily Vol (ann.)     25.61%\n",
      "Daily Skew           -0.60\n",
      "Daily Kurt           15.89\n",
      "Best Day             9.50%\n",
      "Worst Day            -13.60%\n",
      "\n",
      "Monthly Sharpe       1.05\n",
      "Monthly Sortino      1.97\n",
      "Monthly Mean (ann.)  29.20%\n",
      "Monthly Vol (ann.)   23.78%\n",
      "Monthly Skew         -0.39\n",
      "Monthly Kurt         0.13\n",
      "Best Month           15.74%\n",
      "Worst Month          -12.67%\n",
      "\n",
      "Yearly Sharpe        0.61\n",
      "Yearly Sortino       8.39\n",
      "Yearly Mean          18.20%\n",
      "Yearly Vol           23.08%\n",
      "Yearly Skew          -\n",
      "Yearly Kurt          -\n",
      "Best Year            34.52%\n",
      "Worst Year           1.89%\n",
      "\n",
      "Avg. Drawdown        -2.23%\n",
      "Avg. Drawdown Days   13.50\n",
      "Avg. Up Month        6.18%\n",
      "Avg. Down Month      -5.05%\n",
      "Win Year %           100.00%\n",
      "Win 12m %            85.71%\n"
     ]
    },
    {
     "data": {
      "text/plain": [
       "<Axes: title={'center': 'Portfolio Out-of-Sample Performance'}>"
      ]
     },
     "execution_count": 16,
     "metadata": {},
     "output_type": "execute_result"
    },
    {
     "data": {
      "image/png": "[encoded data removed]",
      "text/plain": [
       "<Figure size 800x600 with 1 Axes>"
      ]
     },
     "metadata": {},
     "output_type": "display_data"
    },
    {
     "data": {
      "image/png": "[encoded data removed]",
      "text/plain": [
       "<Figure size 1000x600 with 1 Axes>"
      ]
     },
     "metadata": {},
     "output_type": "display_data"
    }
   ],
   "source": [
    "from py.technical_analysis import plot_complete_strategy_analysis, plot_portfolio_performance\n",
    "\n",
    "print(\"🧪 Testing strategy on out-of-sample data...\")\n",
    "\n",
    "# Generate analysis plots\n",
    "plot_complete_strategy_analysis(optimization_results, quotes, training_set, test_set, cols=1)\n",
    "plot_portfolio_performance(optimization_summary, cols=1, rows=2)\n",
    "\n",
    "# Extract portfolio configuration\n",
    "portfolio_weights = optimization_results['portfolio_weights']\n",
    "selected_tickers = optimization_results['selected_tickers']\n",
    "portfolio_test_data = quotes[selected_tickers].dropna().loc[test_set.index]\n",
    "\n",
    "# Process portfolio weights\n",
    "if isinstance(portfolio_weights, pd.DataFrame) and len(portfolio_weights) == len(selected_tickers):\n",
    "    weights_dict = {ticker: portfolio_weights.iloc[i, 0] for i, ticker in enumerate(selected_tickers)}\n",
    "elif isinstance(portfolio_weights, dict):\n",
    "    weights_dict = {ticker: portfolio_weights.get(ticker, 1.0/len(selected_tickers)) for ticker in selected_tickers}\n",
    "else:\n",
    "    weights_dict = {ticker: 1.0/len(selected_tickers) for ticker in selected_tickers}\n",
    "\n",
    "# Normalize weights\n",
    "total_weight = sum(weights_dict.values())\n",
    "if total_weight > 0:\n",
    "    weights_dict = {k: v/total_weight for k, v in weights_dict.items()}\n",
    "\n",
    "# Run backtest\n",
    "portfolio_strategy = bt.Strategy('Short-Term Strategy', [\n",
    "    bt.algos.RunWeekly(), bt.algos.SelectAll(), \n",
    "    bt.algos.WeighSpecified(**weights_dict), bt.algos.Rebalance()\n",
    "])\n",
    "\n",
    "portfolio_result = bt.run(bt.Backtest(portfolio_strategy, portfolio_test_data))\n",
    "portfolio_result.set_riskfree_rate(risk_free_rate)\n",
    "\n",
    "print(f\"📊 Selected: {selected_tickers}\")\n",
    "portfolio_result.display()\n",
    "portfolio_result.plot_security_weights(figsize=(8, 6), title='Portfolio Weights Over Time')\n",
    "portfolio_result.plot(figsize=(10, 6), title='Portfolio Out-of-Sample Performance')"
   ]
  },
  {
   "cell_type": "markdown",
   "metadata": {},
   "source": [
    "### 5.4 Statistical Overfitting Analysis\n",
    "\n",
    "**Purpose:**\n",
    "Determines if the optimized strategy is likely to perform well on future unseen data or if it's overfitted to historical patterns.\n",
    "\n",
    "**Tests Performed:**\n",
    "- **Sharpe Ratio Stability**: Compares in-sample vs out-of-sample Sharpe ratios\n",
    "- **Statistical Significance**: Tests if performance differences are statistically meaningful\n",
    "- **Return Distribution Analysis**: Examines consistency of return patterns\n",
    "\n",
    "**Interpretation:**\n",
    "- **p-value < 0.05**: Likely overfitted, proceed with caution\n",
    "- **p-value ≥ 0.05**: Strategy appears robust for future deployment"
   ]
  },
  {
   "cell_type": "code",
   "execution_count": 17,
   "metadata": {},
   "outputs": [
    {
     "name": "stdout",
     "output_type": "stream",
     "text": [
      "🔍 Running Overfitting Analysis...\n",
      "==================================================\n",
      "📊 SUMMARY STATISTICS\n",
      "Strategies tested: 1\n",
      "In-sample mean Sharpe: 0.100\n",
      "Out-sample mean Sharpe: 0.378\n",
      "In-sample mean Sortino: 0.141\n",
      "Out-sample mean Sortino: 0.427\n",
      "\n",
      "📈 STATISTICAL TEST RESULTS\n",
      "Sharpe t-statistic: -0.476\n",
      "Sharpe p-value: 0.641\n",
      "Sortino t-statistic: -0.368\n",
      "Sortino p-value: 0.612\n",
      "\n",
      "🎯 OVERFITTING STATUS: NOT DETECTED\n",
      "   ✅ Sharpe ratio degradation not significant (p=0.641)\n",
      "   ✅ Sortino ratio degradation not significant (p=0.612)\n",
      "\n",
      "💡 RECOMMENDATIONS:\n",
      "  ✅ NO SIGNIFICANT OVERFITTING: The strategy maintains reasonable performance from in-sample to out-of-sample testing.\n",
      "  💡 Continue monitoring:\n",
      "  • Track performance over time\n",
      "  • Consider additional validation periods\n",
      "  • Monitor parameter stability\n",
      "\n",
      "📋 DETAILED TICKER ANALYSIS:\n",
      "\n",
      "LDOS:\n",
      "  In-sample Sharpe: -0.237\n",
      "  Out-sample Sharpe: 0.378\n",
      "  Degradation: -259.2%\n",
      "  Strategy: EMA_Cross_Signal\n",
      "  Periods: 8/25\n",
      "📊 Overfitting: ✅ VALIDATED (p=0.6415)\n"
     ]
    }
   ],
   "source": [
    "from py.technical_analysis import run_overfitting_analysis\n",
    "\n",
    "# Run overfitting analysis\n",
    "overfitting_analysis = run_overfitting_analysis(optimization_results, test_set)\n",
    "is_overfitted = overfitting_analysis['statistical_tests'].get('is_overfitted', False)\n",
    "sharpe_p_value = overfitting_analysis['statistical_tests'].get('sharpe_p_value', 1.0)\n",
    "\n",
    "status = \"⚠️ OVERFITTED\" if is_overfitted else \"✅ VALIDATED\"\n",
    "print(f\"📊 Overfitting: {status} (p={sharpe_p_value:.4f})\")"
   ]
  },
  {
   "cell_type": "markdown",
   "metadata": {},
   "source": [
    "### 5.5 Walk-Forward Validation\n",
    "\n",
    "**Methodology:**\n",
    "- Simulates real-world strategy deployment over multiple time periods\n",
    "- Re-optimizes parameters periodically (mimicking live trading)\n",
    "- Tests strategy stability across different market conditions\n",
    "- Provides additional confirmation of strategy robustness\n",
    "\n",
    "**Validation Periods:**\n",
    "Multiple non-overlapping time windows to test parameter stability and performance consistency."
   ]
  },
  {
   "cell_type": "code",
   "execution_count": null,
   "metadata": {},
   "outputs": [
    {
     "name": "stdout",
     "output_type": "stream",
     "text": [
      "\n",
      "✅ Skipping walk-forward validation - no overfitting detected\n",
      "\n",
      "============================================================\n",
      "📋 FINAL STRATEGY VALIDATION SUMMARY\n",
      "============================================================\n",
      "🎯 STRATEGY STATUS: READY FOR DEPLOYMENT\n",
      "✅ Passed overfitting tests (p-value: 0.2091)\n",
      "\n",
      "💡 DEPLOYMENT RECOMMENDATIONS:\n",
      "  ✅ Strategy appears robust\n",
      "  📊 Monitor performance closely\n",
      "  🎯 Consider paper trading first\n",
      "  📈 Set up regular re-optimization\n",
      "  ⚖️ Implement risk management\n",
      "\n",
      "📊 STRATEGY METRICS:\n",
      "Selected tickers: ['CTAS']\n",
      "Portfolio size: 1 stocks\n",
      "Training Sharpe: 0.536\n",
      "Testing Sharpe: 0.289\n",
      "Risk-free rate: 4.240%\n",
      "🚶 Walk-Forward: READY_FOR_DEPLOYMENT | Stability: 100.0%\n"
     ]
    }
   ],
   "source": [
    "from py.technical_analysis import walk_forward_validation_check\n",
    "\n",
    "# Define parameter ranges\n",
    "parameter_ranges = robust_strategy_results.get('parameter_config', {\n",
    "    'SMA_Cross_Signal': {'short_periods': [20], 'long_periods': [100]},\n",
    "    'EMA_Cross_Signal': {'short_periods': [12], 'long_periods': [50]}\n",
    "}) if 'robust_strategy_results' in locals() and robust_strategy_results else {\n",
    "    'SMA_Cross_Signal': {'short_periods': [20], 'long_periods': [100]},\n",
    "    'EMA_Cross_Signal': {'short_periods': [12], 'long_periods': [50]}\n",
    "}\n",
    "\n",
    "# Run validation\n",
    "validation_results = walk_forward_validation_check(\n",
    "    quotes_data=quotes, parameter_ranges=parameter_ranges, \n",
    "    is_overfitted=is_overfitted, sharpe_p_value=sharpe_p_value,\n",
    "    overfitting_analysis=overfitting_analysis, selected_tickers=selected_tickers,\n",
    "    risk_free_rate=risk_free_rate, validation_periods=4\n",
    ")\n",
    "\n",
    "stability_ratio = validation_results['stability_ratio']\n",
    "print(f\"🚶 Walk-Forward: {validation_results['final_status']} | Stability: {stability_ratio:.1%}\")"
   ]
  },
  {
   "cell_type": "markdown",
   "metadata": {},
   "source": [
    "## **6. Portfolio Construction & Integration**"
   ]
  },
  {
   "cell_type": "markdown",
   "metadata": {},
   "source": [
    "### 6.1 Merge Strategy Results with Fundamental Data\n",
    "\n",
    "**Data Integration:**\n",
    "- **Technical Analysis**: Optimized parameters and performance metrics\n",
    "- **Sentiment Analysis**: News-based sentiment scores and sector analysis  \n",
    "- **Fundamental Analysis**: Market cap, P/E ratios, sector classifications\n",
    "- **Risk Metrics**: Sharpe ratios, volatility, maximum drawdown\n",
    "\n",
    "**Weight Calculation:**\n",
    "Portfolio weights are determined by normalized Sharpe ratios to emphasize risk-adjusted performance."
   ]
  },
  {
   "cell_type": "code",
   "execution_count": null,
   "metadata": {},
   "outputs": [
    {
     "name": "stdout",
     "output_type": "stream",
     "text": [
      "✅ Portfolio: 1 stocks\n"
     ]
    },
    {
     "data": {
      "application/vnd.microsoft.datawrangler.viewer.v0+json": {
       "columns": [
        {
         "name": "Ticker",
         "rawType": "object",
         "type": "string"
        },
        {
         "name": "Date",
         "rawType": "object",
         "type": "string"
        },
        {
         "name": "Name",
         "rawType": "object",
         "type": "string"
        },
        {
         "name": "Sector",
         "rawType": "object",
         "type": "string"
        },
        {
         "name": "Industry",
         "rawType": "object",
         "type": "string"
        },
        {
         "name": "Country",
         "rawType": "object",
         "type": "string"
        },
        {
         "name": "Website",
         "rawType": "object",
         "type": "string"
        },
        {
         "name": "Market Cap",
         "rawType": "float64",
         "type": "float"
        },
        {
         "name": "Enterprise Value",
         "rawType": "float64",
         "type": "float"
        },
        {
         "name": "Float Shares",
         "rawType": "float64",
         "type": "float"
        },
        {
         "name": "Shares Outstanding",
         "rawType": "float64",
         "type": "float"
        },
        {
         "name": "P/E (Trailing)",
         "rawType": "float64",
         "type": "float"
        },
        {
         "name": "P/E (Forward)",
         "rawType": "float64",
         "type": "float"
        },
        {
         "name": "P/S",
         "rawType": "float64",
         "type": "float"
        },
        {
         "name": "P/B",
         "rawType": "float64",
         "type": "float"
        },
        {
         "name": "EV/Ebitda",
         "rawType": "float64",
         "type": "float"
        },
        {
         "name": "EV/Revenue",
         "rawType": "float64",
         "type": "float"
        },
        {
         "name": "Gross Margin (%)",
         "rawType": "float64",
         "type": "float"
        },
        {
         "name": "Ebitda Margin (%)",
         "rawType": "float64",
         "type": "float"
        },
        {
         "name": "Operating Margin (%)",
         "rawType": "float64",
         "type": "float"
        },
        {
         "name": "Profit Margin (%)",
         "rawType": "float64",
         "type": "float"
        },
        {
         "name": "ROE",
         "rawType": "float64",
         "type": "float"
        },
        {
         "name": "ROA",
         "rawType": "float64",
         "type": "float"
        },
        {
         "name": "Revenue (TTM)",
         "rawType": "float64",
         "type": "float"
        },
        {
         "name": "Revenue Growth (%)",
         "rawType": "float64",
         "type": "float"
        },
        {
         "name": "EPS (Trailing)",
         "rawType": "float64",
         "type": "float"
        },
        {
         "name": "EPS (Forward)",
         "rawType": "float64",
         "type": "float"
        },
        {
         "name": "Earnings Growth (%)",
         "rawType": "float64",
         "type": "float"
        },
        {
         "name": "Earnings Quarterly Growth (%)",
         "rawType": "float64",
         "type": "float"
        },
        {
         "name": "Total Cash",
         "rawType": "float64",
         "type": "float"
        },
        {
         "name": "Total Debt",
         "rawType": "float64",
         "type": "float"
        },
        {
         "name": "Debt To Equity",
         "rawType": "float64",
         "type": "float"
        },
        {
         "name": "Current Ratio",
         "rawType": "float64",
         "type": "float"
        },
        {
         "name": "Quick Ratio",
         "rawType": "float64",
         "type": "float"
        },
        {
         "name": "Book Value",
         "rawType": "float64",
         "type": "float"
        },
        {
         "name": "Free Cash Flow",
         "rawType": "float64",
         "type": "float"
        },
        {
         "name": "Operating Cash Flow",
         "rawType": "float64",
         "type": "float"
        },
        {
         "name": "Dividend Yield (%)",
         "rawType": "float64",
         "type": "float"
        },
        {
         "name": "Dividend Rate (%)",
         "rawType": "float64",
         "type": "float"
        },
        {
         "name": "5Y Avg Dividend Yield (%)",
         "rawType": "float64",
         "type": "float"
        },
        {
         "name": "Payout Ratio (%)",
         "rawType": "float64",
         "type": "float"
        },
        {
         "name": "Price",
         "rawType": "float64",
         "type": "float"
        },
        {
         "name": "Target Price",
         "rawType": "float64",
         "type": "float"
        },
        {
         "name": "Target High",
         "rawType": "float64",
         "type": "float"
        },
        {
         "name": "Target Low",
         "rawType": "float64",
         "type": "float"
        },
        {
         "name": "Analyst Rating",
         "rawType": "object",
         "type": "string"
        },
        {
         "name": "Analyst Rating Value",
         "rawType": "float64",
         "type": "float"
        },
        {
         "name": "Beta",
         "rawType": "float64",
         "type": "float"
        },
        {
         "name": "52W High",
         "rawType": "float64",
         "type": "float"
        },
        {
         "name": "52W Low",
         "rawType": "float64",
         "type": "float"
        },
        {
         "name": "50 Day Avg",
         "rawType": "float64",
         "type": "float"
        },
        {
         "name": "200 Day Avg",
         "rawType": "float64",
         "type": "float"
        },
        {
         "name": "Short Ratio",
         "rawType": "float64",
         "type": "float"
        },
        {
         "name": "Short % Of Float",
         "rawType": "float64",
         "type": "float"
        },
        {
         "name": "Strategy",
         "rawType": "object",
         "type": "string"
        },
        {
         "name": "Best Sharpe",
         "rawType": "float64",
         "type": "float"
        },
        {
         "name": "Best Sortino",
         "rawType": "float64",
         "type": "float"
        },
        {
         "name": "CAGR",
         "rawType": "float64",
         "type": "float"
        },
        {
         "name": "Max Drawdown",
         "rawType": "float64",
         "type": "float"
        },
        {
         "name": "Volatility",
         "rawType": "float64",
         "type": "float"
        },
        {
         "name": "Short Period",
         "rawType": "int64",
         "type": "integer"
        },
        {
         "name": "Long Period",
         "rawType": "int64",
         "type": "integer"
        },
        {
         "name": "Articles In Last Week",
         "rawType": "int64",
         "type": "integer"
        },
        {
         "name": "Company News Score",
         "rawType": "float64",
         "type": "float"
        },
        {
         "name": "Bearish Percent",
         "rawType": "float64",
         "type": "float"
        },
        {
         "name": "Bullish Percent",
         "rawType": "float64",
         "type": "float"
        },
        {
         "name": "Average Sentiment Score",
         "rawType": "float64",
         "type": "float"
        },
        {
         "name": "Sector Average Bullish Percent",
         "rawType": "float64",
         "type": "float"
        },
        {
         "name": "Sector Average News Score",
         "rawType": "float64",
         "type": "float"
        },
        {
         "name": "Weight",
         "rawType": "float64",
         "type": "float"
        }
       ],
       "ref": "0182eac5-f834-42c1-af60-4513eb76c4cb",
       "rows": [
        [
         "CTAS",
         "2025-06-11",
         "Cintas Corporation",
         "Industrials",
         "Specialty Business Services",
         "United States",
         "https://www.cintas.com",
         "89628606464.0",
         "92177956864.0",
         "343101820.0",
         "403787008.0",
         "51.98",
         "47.43",
         "8.84",
         "19.51",
         "34.6",
         "9.09",
         "0.4992",
         "0.2627",
         "0.2337",
         "0.1753",
         "0.4",
         "0.16",
         "10143464448.0",
         "0.084",
         "4.27",
         "4.68",
         "0.177",
         "0.166",
         "243428000.0",
         "2691842048.0",
         "58.62",
         "1.72",
         "0.85",
         "11.38",
         "1619095040.0",
         "2223195904.0",
         "0.0069",
         "0.015600000000000001",
         "0.0094",
         "0.35",
         "221.97",
         "211.11",
         "250.0",
         "163.0",
         "hold",
         "2.7",
         "1.06",
         "229.24",
         "170.93",
         "213.47",
         "206.68",
         "3.14",
         "0.01",
         "SMA_Cross_Signal",
         "0.6452704354138183",
         "0.8930510303038972",
         "0.1501802245269428",
         "-0.3883681907922586",
         "0.27484835262751406",
         "15",
         "50",
         "5",
         "0.6461",
         "0.0",
         "0.6",
         "0.2921",
         "0.5153",
         "0.567",
         "1.0"
        ]
       ],
       "shape": {
        "columns": 69,
        "rows": 1
       }
      },
      "text/html": [
       "<div>\n",
       "<style scoped>\n",
       "    .dataframe tbody tr th:only-of-type {\n",
       "        vertical-align: middle;\n",
       "    }\n",
       "\n",
       "    .dataframe tbody tr th {\n",
       "        vertical-align: top;\n",
       "    }\n",
       "\n",
       "    .dataframe thead th {\n",
       "        text-align: right;\n",
       "    }\n",
       "</style>\n",
       "<table border=\"1\" class=\"dataframe\">\n",
       "  <thead>\n",
       "    <tr style=\"text-align: right;\">\n",
       "      <th></th>\n",
       "      <th>Date</th>\n",
       "      <th>Name</th>\n",
       "      <th>Sector</th>\n",
       "      <th>Industry</th>\n",
       "      <th>Country</th>\n",
       "      <th>Website</th>\n",
       "      <th>Market Cap</th>\n",
       "      <th>Enterprise Value</th>\n",
       "      <th>Float Shares</th>\n",
       "      <th>Shares Outstanding</th>\n",
       "      <th>...</th>\n",
       "      <th>Short Period</th>\n",
       "      <th>Long Period</th>\n",
       "      <th>Articles In Last Week</th>\n",
       "      <th>Company News Score</th>\n",
       "      <th>Bearish Percent</th>\n",
       "      <th>Bullish Percent</th>\n",
       "      <th>Average Sentiment Score</th>\n",
       "      <th>Sector Average Bullish Percent</th>\n",
       "      <th>Sector Average News Score</th>\n",
       "      <th>Weight</th>\n",
       "    </tr>\n",
       "    <tr>\n",
       "      <th>Ticker</th>\n",
       "      <th></th>\n",
       "      <th></th>\n",
       "      <th></th>\n",
       "      <th></th>\n",
       "      <th></th>\n",
       "      <th></th>\n",
       "      <th></th>\n",
       "      <th></th>\n",
       "      <th></th>\n",
       "      <th></th>\n",
       "      <th></th>\n",
       "      <th></th>\n",
       "      <th></th>\n",
       "      <th></th>\n",
       "      <th></th>\n",
       "      <th></th>\n",
       "      <th></th>\n",
       "      <th></th>\n",
       "      <th></th>\n",
       "      <th></th>\n",
       "      <th></th>\n",
       "    </tr>\n",
       "  </thead>\n",
       "  <tbody>\n",
       "    <tr>\n",
       "      <th>CTAS</th>\n",
       "      <td>2025-06-11</td>\n",
       "      <td>Cintas Corporation</td>\n",
       "      <td>Industrials</td>\n",
       "      <td>Specialty Business Services</td>\n",
       "      <td>United States</td>\n",
       "      <td>https://www.cintas.com</td>\n",
       "      <td>8.962861e+10</td>\n",
       "      <td>9.217796e+10</td>\n",
       "      <td>343101820.0</td>\n",
       "      <td>403787008.0</td>\n",
       "      <td>...</td>\n",
       "      <td>15</td>\n",
       "      <td>50</td>\n",
       "      <td>5</td>\n",
       "      <td>0.6461</td>\n",
       "      <td>0.0</td>\n",
       "      <td>0.6</td>\n",
       "      <td>0.2921</td>\n",
       "      <td>0.5153</td>\n",
       "      <td>0.567</td>\n",
       "      <td>1.0</td>\n",
       "    </tr>\n",
       "  </tbody>\n",
       "</table>\n",
       "<p>1 rows × 69 columns</p>\n",
       "</div>"
      ],
      "text/plain": [
       "              Date                Name       Sector  \\\n",
       "Ticker                                                \n",
       "CTAS    2025-06-11  Cintas Corporation  Industrials   \n",
       "\n",
       "                           Industry        Country                 Website  \\\n",
       "Ticker                                                                       \n",
       "CTAS    Specialty Business Services  United States  https://www.cintas.com   \n",
       "\n",
       "          Market Cap  Enterprise Value  Float Shares  Shares Outstanding  ...  \\\n",
       "Ticker                                                                    ...   \n",
       "CTAS    8.962861e+10      9.217796e+10   343101820.0         403787008.0  ...   \n",
       "\n",
       "        Short Period  Long Period  Articles In Last Week  Company News Score  \\\n",
       "Ticker                                                                         \n",
       "CTAS              15           50                      5              0.6461   \n",
       "\n",
       "        Bearish Percent  Bullish Percent  Average Sentiment Score  \\\n",
       "Ticker                                                              \n",
       "CTAS                0.0              0.6                   0.2921   \n",
       "\n",
       "        Sector Average Bullish Percent  Sector Average News Score  Weight  \n",
       "Ticker                                                                     \n",
       "CTAS                            0.5153                      0.567     1.0  \n",
       "\n",
       "[1 rows x 69 columns]"
      ]
     },
     "metadata": {},
     "output_type": "display_data"
    }
   ],
   "source": [
    "from py.utils import clean_column_names\n",
    "\n",
    "# Load and prepare fundamentals data\n",
    "fundamentals_df = pl.read_csv('data/fundamentals_stock.csv')\n",
    "if 'Ticker' not in fundamentals_df.columns:\n",
    "    ticker_col = next((col for col in fundamentals_df.columns \n",
    "                      if col.lower() in ['symbol', 'ticker', 'stock', 'code']), None)\n",
    "    if ticker_col:\n",
    "        fundamentals_df = fundamentals_df.with_columns(\n",
    "            pl.col(ticker_col).str.to_uppercase().alias(\"Ticker\")\n",
    "        ).drop(ticker_col)\n",
    "\n",
    "# Prepare optimization and sentiment data\n",
    "optimization_summary_with_tickers = optimization_summary.copy()\n",
    "optimization_summary_with_tickers['Ticker'] = [ticker.upper() for ticker in selected_tickers]\n",
    "\n",
    "sentiment_merge = comprehensive_screened.select([\n",
    "    'symbol', 'articlesInLastWeek', 'companyNewsScore', \n",
    "    'bearishPercent', 'bullishPercent', 'averageSentimentScore',\n",
    "    'sectorAverageBullishPercent', 'sectorAverageNewsScore'\n",
    "]).with_columns(pl.col(\"symbol\").str.to_uppercase().alias(\"Ticker\")).drop('symbol')\n",
    "\n",
    "# Create and weight portfolio\n",
    "short_term_portfolio_df = (fundamentals_df\n",
    "    .join(pl.DataFrame(optimization_summary_with_tickers), on='Ticker', how='inner')\n",
    "    .join(sentiment_merge, on='Ticker', how='inner')\n",
    "    .to_pandas().set_index('Ticker').sort_index().pipe(clean_column_names))\n",
    "\n",
    "# Calculate weights based on Sharpe ratios\n",
    "if 'sharpe_ratio' in short_term_portfolio_df.columns and short_term_portfolio_df['sharpe_ratio'].sum() > 0:\n",
    "    short_term_portfolio_df['Weight'] = short_term_portfolio_df['sharpe_ratio'] / short_term_portfolio_df['sharpe_ratio'].sum()\n",
    "else:\n",
    "    short_term_portfolio_df['Weight'] = 1.0 / len(short_term_portfolio_df)\n",
    "\n",
    "print(f\"✅ Portfolio: {len(short_term_portfolio_df)} stocks\")\n",
    "display(short_term_portfolio_df)"
   ]
  },
  {
   "cell_type": "markdown",
   "metadata": {},
   "source": [
    "### 6.2 Price Data Preparation for Export\n",
    "\n",
    "**Daily Prices:**\n",
    "- Complete daily price history for selected stocks\n",
    "- Includes risk-free rate for performance benchmarking\n",
    "- All column names standardized to uppercase\n",
    "\n",
    "**Monthly Prices:**\n",
    "- Resampled to month-start frequency\n",
    "- Useful for monthly portfolio reporting and analysis\n",
    "- Maintains same structure as daily data"
   ]
  },
  {
   "cell_type": "code",
   "execution_count": null,
   "metadata": {},
   "outputs": [
    {
     "name": "stdout",
     "output_type": "stream",
     "text": [
      "Date Range: 2015-06-15 00:00:00 - 2025-06-09 00:00:00\n"
     ]
    },
    {
     "data": {
      "application/vnd.microsoft.datawrangler.viewer.v0+json": {
       "columns": [
        {
         "name": "Date",
         "rawType": "datetime64[ns]",
         "type": "datetime"
        },
        {
         "name": "CTAS",
         "rawType": "float64",
         "type": "float"
        },
        {
         "name": "^IRX",
         "rawType": "float64",
         "type": "float"
        }
       ],
       "ref": "b6464af8-7137-4e7b-a9e4-fa4537d0e355",
       "rows": [
        [
         "2025-06-01 00:00:00",
         "224.6",
         "4.24"
        ],
        [
         "2025-05-01 00:00:00",
         "226.5",
         "4.23"
        ],
        [
         "2025-04-01 00:00:00",
         "211.29",
         "4.19"
        ],
        [
         "2025-03-01 00:00:00",
         "205.16",
         "4.19"
        ],
        [
         "2025-02-01 00:00:00",
         "207.12",
         "4.193"
        ]
       ],
       "shape": {
        "columns": 2,
        "rows": 5
       }
      },
      "text/html": [
       "<div>\n",
       "<style scoped>\n",
       "    .dataframe tbody tr th:only-of-type {\n",
       "        vertical-align: middle;\n",
       "    }\n",
       "\n",
       "    .dataframe tbody tr th {\n",
       "        vertical-align: top;\n",
       "    }\n",
       "\n",
       "    .dataframe thead th {\n",
       "        text-align: right;\n",
       "    }\n",
       "</style>\n",
       "<table border=\"1\" class=\"dataframe\">\n",
       "  <thead>\n",
       "    <tr style=\"text-align: right;\">\n",
       "      <th></th>\n",
       "      <th>CTAS</th>\n",
       "      <th>^IRX</th>\n",
       "    </tr>\n",
       "    <tr>\n",
       "      <th>Date</th>\n",
       "      <th></th>\n",
       "      <th></th>\n",
       "    </tr>\n",
       "  </thead>\n",
       "  <tbody>\n",
       "    <tr>\n",
       "      <th>2025-06-01</th>\n",
       "      <td>224.60</td>\n",
       "      <td>4.240</td>\n",
       "    </tr>\n",
       "    <tr>\n",
       "      <th>2025-05-01</th>\n",
       "      <td>226.50</td>\n",
       "      <td>4.230</td>\n",
       "    </tr>\n",
       "    <tr>\n",
       "      <th>2025-04-01</th>\n",
       "      <td>211.29</td>\n",
       "      <td>4.190</td>\n",
       "    </tr>\n",
       "    <tr>\n",
       "      <th>2025-03-01</th>\n",
       "      <td>205.16</td>\n",
       "      <td>4.190</td>\n",
       "    </tr>\n",
       "    <tr>\n",
       "      <th>2025-02-01</th>\n",
       "      <td>207.12</td>\n",
       "      <td>4.193</td>\n",
       "    </tr>\n",
       "  </tbody>\n",
       "</table>\n",
       "</div>"
      ],
      "text/plain": [
       "              CTAS   ^IRX\n",
       "Date                     \n",
       "2025-06-01  224.60  4.240\n",
       "2025-05-01  226.50  4.230\n",
       "2025-04-01  211.29  4.190\n",
       "2025-03-01  205.16  4.190\n",
       "2025-02-01  207.12  4.193"
      ]
     },
     "metadata": {},
     "output_type": "display_data"
    }
   ],
   "source": [
    "# Merge portfolio quotes with risk-free rate\n",
    "daily_prices_df_merged = quotes[selected_tickers].join(daily_risk_free_df, how='inner')\n",
    "daily_prices_df_merged.columns = daily_prices_df_merged.columns.str.upper()\n",
    "\n",
    "# Create monthly resampled data\n",
    "monthly_prices_df_merged = daily_prices_df_merged.copy()\n",
    "monthly_prices_df_merged.index = pd.to_datetime(monthly_prices_df_merged.index)\n",
    "\n",
    "# Resample to month-start and take last value of each month\n",
    "monthly_prices_df_merged = (monthly_prices_df_merged\n",
    "                           .resample('MS').last()\n",
    "                           .reset_index()\n",
    "                           .rename(columns={'index': 'Date'}))\n",
    "\n",
    "monthly_prices_df_merged.reset_index(drop=True, inplace=True)\n",
    "monthly_prices_df_merged.set_index(['Date'], inplace=True)\n",
    "\n",
    "# Display monthly data sample\n",
    "print(f\"Date Range: {daily_prices_df_merged.index[0]} - {daily_prices_df_merged.index[-1]}\")\n",
    "display(monthly_prices_df_merged.sort_index(axis=0, ascending=False).sort_index(axis=1, ascending=True).head())"
   ]
  },
  {
   "cell_type": "markdown",
   "metadata": {},
   "source": [
    "## **7. Portfolio Export & Summary**\n",
    "\n",
    "### Export to Excel\n",
    "The final portfolio is exported to Excel with multiple sheets for comprehensive analysis:\n",
    "\n",
    "- **short_term_portfolio**: Complete portfolio with all metrics and weights\n",
    "- **daily_quotes**: Daily price history for backtesting and analysis  \n",
    "- **monthly_quotes**: Monthly price data for reporting\n",
    "\n",
    "### Final Portfolio Summary"
   ]
  },
  {
   "cell_type": "code",
   "execution_count": null,
   "metadata": {},
   "outputs": [
    {
     "name": "stdout",
     "output_type": "stream",
     "text": [
      "Updated sheet 'short_term_portfolio'\n",
      "Successfully merged data into 'daily_quotes' sheet\n",
      "Successfully merged data into 'monthly_quotes' sheet\n",
      "Successfully exported all data to portfolios/portfolio-2025-06-10.xlsx\n",
      "✅ EXPORT: portfolios/portfolio-2025-06-10.xlsx\n",
      "\n",
      "🎯 PORTFOLIO SUMMARY\n",
      "📈 Tickers: ['CTAS']\n",
      "💼 Size: 1 stocks | Allocation: 100.0%\n",
      "🔍 Validation: ✅ PASSED | P-Value: 0.2091 | Stability: 100.0%\n",
      "💰 Weights: CTAS: 100.0%\n",
      "🚀 Ready for deployment!\n"
     ]
    }
   ],
   "source": [
    "from py.utils import export_to_excel\n",
    "\n",
    "# Export portfolio to Excel\n",
    "export_to_excel(output_file, {\n",
    "    'short_term_portfolio': short_term_portfolio_df,\n",
    "    'daily_quotes': daily_prices_df_merged,  \n",
    "    'monthly_quotes': monthly_prices_df_merged   \n",
    "})\n",
    "\n",
    "# Portfolio summary\n",
    "validation_status = '✅ PASSED' if not is_overfitted else '⚠️ REVIEW NEEDED'\n",
    "print(f\"✅ EXPORT: {output_file}\")\n",
    "print(f\"\\n🎯 PORTFOLIO SUMMARY\")\n",
    "print(f\"📈 Tickers: {selected_tickers}\")\n",
    "print(f\"💼 Size: {len(short_term_portfolio_df)} stocks | Allocation: {short_term_portfolio_df['Weight'].sum():.1%}\")\n",
    "print(f\"🔍 Validation: {validation_status} | P-Value: {sharpe_p_value:.4f} | Stability: {stability_ratio:.1%}\")\n",
    "print(f\"💰 Weights: {', '.join(f'{t}: {w:.1%}' for t, w in zip(selected_tickers, short_term_portfolio_df['Weight'].values))}\")\n",
    "print(f\"🚀 Ready for deployment!\")"
   ]
  }
 ],
 "metadata": {
  "kernelspec": {
   "display_name": ".venv",
   "language": "python",
   "name": "python3"
  },
  "language_info": {
   "codemirror_mode": {
    "name": "ipython",
    "version": 3
   },
   "file_extension": ".py",
   "mimetype": "text/x-python",
   "name": "python",
   "nbconvert_exporter": "python",
   "pygments_lexer": "ipython3",
   "version": "3.13.3"
  }
 },
 "nbformat": 4,
 "nbformat_minor": 4
}
